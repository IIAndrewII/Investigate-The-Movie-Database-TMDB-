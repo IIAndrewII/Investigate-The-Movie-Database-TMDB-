{
 "cells": [
  {
   "cell_type": "markdown",
   "metadata": {
    "slideshow": {
     "slide_type": "slide"
    }
   },
   "source": [
    "\n",
    "# (TMDB): Movie Database Analysis\n",
    "## Table of Content:\n",
    "\n",
    "- Introduction\n",
    "- Exploratory Data Analysis\n",
    "- Data Wrangling\n",
    "- Data Cleansing \n",
    "- Conclusions"
   ]
  },
  {
   "cell_type": "markdown",
   "metadata": {
    "slideshow": {
     "slide_type": "slide"
    }
   },
   "source": [
    "<a id='intro'></a>\n",
    "## Introduction\n",
    "\n",
    "### Dataset Description \n",
    "\n",
    "> This data set contains information about 10,000 movies collected from The Movie Database (TMDb), including user ratings and revenue.\n",
    "\n",
    "**Notes:**  \n",
    "Certain columns like: ‘cast’ , ‘genres’, contain multiple values separated by pipe (|) characters.\n",
    "There are some odd characters in the ‘cast’ column.\n",
    "The final two columns ending with “_adj” show the budget and revenue of the associated movie in terms of 2010 dollars, accounting for inflation over time.\n",
    "\n",
    "**column names:** \n",
    "- id\n",
    "- imdb_id\n",
    "- popularity\n",
    "- budget\n",
    "- revenue\n",
    "- original_title\n",
    "- cast\n",
    "- homepage\n",
    "- director\n",
    "- tagline\n",
    "- keywords\n",
    "- overview\n",
    "- runtime\n",
    "- genres\n",
    "- production_companies\n",
    "- release_date\n",
    "- vote_count\n",
    "- vote_average\n",
    "- release_year\n",
    "- budget_adj\n",
    "- revenue_adj\n",
    "\n",
    "\n",
    "\n",
    "### Questions for Analysis\n",
    "\n",
    "\n",
    ">**Who is the actor with most movies?**\n",
    "\n",
    ">**Who is the director with most movies?**\n",
    "\n",
    ">**Who is the actor that makes the most money?**\n",
    "\n",
    ">**Who is the director that makes the most money?**\n",
    "\n",
    ">**Which genres are most popular from year to year?**\n",
    "\n"
   ]
  },
  {
   "cell_type": "code",
   "execution_count": 1,
   "metadata": {
    "slideshow": {
     "slide_type": "skip"
    }
   },
   "outputs": [],
   "source": [
    "# All used packages\n",
    "\n",
    "import pandas as pd\n",
    "import numpy as np\n",
    "import matplotlib.pyplot as plt\n",
    "import seaborn as sns\n",
    "% matplotlib inline"
   ]
  },
  {
   "cell_type": "code",
   "execution_count": 2,
   "metadata": {
    "slideshow": {
     "slide_type": "skip"
    }
   },
   "outputs": [],
   "source": [
    "# Function to split columns containing several values.\n",
    "def spl(df,split_c,y):\n",
    "    \n",
    "    new_df = pd.DataFrame()\n",
    "    \n",
    "# apply split function to each column \n",
    "    for c in split_c:\n",
    "        df_s = df[c].str.split(y, expand=True)\n",
    "        \n",
    "# Rename new columns\n",
    "        df_s = df_s.add_prefix(c)\n",
    "        \n",
    "# merge new columns\n",
    "        new_df = new_df.merge(df_s, how='outer' , left_index=True, right_index=True)\n",
    "    \n",
    "# Remove old columns (that containing several values)\n",
    "    df=df.drop(split_c,axis=1)\n",
    "\n",
    "# merge new columns with dataframe\n",
    "    new_df = df.merge(new_df, how='outer' , left_index=True, right_index=True)\n",
    "\n",
    "    return(new_df)"
   ]
  },
  {
   "cell_type": "code",
   "execution_count": 3,
   "metadata": {
    "slideshow": {
     "slide_type": "skip"
    }
   },
   "outputs": [],
   "source": [
    "# Function to combine multiple columns into different shapes.\n",
    "\n",
    "def comp( dataframe , multiple_columns , compare_with):\n",
    "    \n",
    "    a = multiple_columns\n",
    "    b = compare_with\n",
    "    x = dataframe\n",
    "\n",
    "    d_a = x.loc[:,a]\n",
    "    d_b = x.loc[:,[b]]\n",
    "\n",
    "\n",
    "    df_m = d_b.merge( d_a, how='outer' , left_index=True, right_index=True)\n",
    "    df_m = df_m.set_index(b)\n",
    "\n",
    "    df_s = df_m.stack()\n",
    "    df_s = pd.DataFrame(df_s)\n",
    "    \n",
    "\n",
    "\n",
    "    df_m\n",
    "    df_f = df_m[a[0]]\n",
    "    k = a[1:]\n",
    "    for n in k:\n",
    "        df_f = df_f.append(df_m[n])\n",
    "    df_f = pd.DataFrame(df_f)\n",
    "    return(df_s , df_f)\n"
   ]
  },
  {
   "cell_type": "markdown",
   "metadata": {
    "slideshow": {
     "slide_type": "slide"
    }
   },
   "source": [
    "## Data Wrangling\n",
    "\n",
    "\n",
    "### General Properties\n"
   ]
  },
  {
   "cell_type": "code",
   "execution_count": 4,
   "metadata": {
    "slideshow": {
     "slide_type": "skip"
    }
   },
   "outputs": [
    {
     "data": {
      "text/html": [
       "<div>\n",
       "<style scoped>\n",
       "    .dataframe tbody tr th:only-of-type {\n",
       "        vertical-align: middle;\n",
       "    }\n",
       "\n",
       "    .dataframe tbody tr th {\n",
       "        vertical-align: top;\n",
       "    }\n",
       "\n",
       "    .dataframe thead th {\n",
       "        text-align: right;\n",
       "    }\n",
       "</style>\n",
       "<table border=\"1\" class=\"dataframe\">\n",
       "  <thead>\n",
       "    <tr style=\"text-align: right;\">\n",
       "      <th></th>\n",
       "      <th>id</th>\n",
       "      <th>imdb_id</th>\n",
       "      <th>popularity</th>\n",
       "      <th>budget</th>\n",
       "      <th>revenue</th>\n",
       "      <th>original_title</th>\n",
       "      <th>cast</th>\n",
       "      <th>homepage</th>\n",
       "      <th>director</th>\n",
       "      <th>tagline</th>\n",
       "      <th>...</th>\n",
       "      <th>overview</th>\n",
       "      <th>runtime</th>\n",
       "      <th>genres</th>\n",
       "      <th>production_companies</th>\n",
       "      <th>release_date</th>\n",
       "      <th>vote_count</th>\n",
       "      <th>vote_average</th>\n",
       "      <th>release_year</th>\n",
       "      <th>budget_adj</th>\n",
       "      <th>revenue_adj</th>\n",
       "    </tr>\n",
       "  </thead>\n",
       "  <tbody>\n",
       "    <tr>\n",
       "      <th>0</th>\n",
       "      <td>135397</td>\n",
       "      <td>tt0369610</td>\n",
       "      <td>32.985763</td>\n",
       "      <td>150000000</td>\n",
       "      <td>1513528810</td>\n",
       "      <td>Jurassic World</td>\n",
       "      <td>Chris Pratt|Bryce Dallas Howard|Irrfan Khan|Vi...</td>\n",
       "      <td>http://www.jurassicworld.com/</td>\n",
       "      <td>Colin Trevorrow</td>\n",
       "      <td>The park is open.</td>\n",
       "      <td>...</td>\n",
       "      <td>Twenty-two years after the events of Jurassic ...</td>\n",
       "      <td>124</td>\n",
       "      <td>Action|Adventure|Science Fiction|Thriller</td>\n",
       "      <td>Universal Studios|Amblin Entertainment|Legenda...</td>\n",
       "      <td>6/9/15</td>\n",
       "      <td>5562</td>\n",
       "      <td>6.5</td>\n",
       "      <td>2015</td>\n",
       "      <td>1.379999e+08</td>\n",
       "      <td>1.392446e+09</td>\n",
       "    </tr>\n",
       "    <tr>\n",
       "      <th>1</th>\n",
       "      <td>76341</td>\n",
       "      <td>tt1392190</td>\n",
       "      <td>28.419936</td>\n",
       "      <td>150000000</td>\n",
       "      <td>378436354</td>\n",
       "      <td>Mad Max: Fury Road</td>\n",
       "      <td>Tom Hardy|Charlize Theron|Hugh Keays-Byrne|Nic...</td>\n",
       "      <td>http://www.madmaxmovie.com/</td>\n",
       "      <td>George Miller</td>\n",
       "      <td>What a Lovely Day.</td>\n",
       "      <td>...</td>\n",
       "      <td>An apocalyptic story set in the furthest reach...</td>\n",
       "      <td>120</td>\n",
       "      <td>Action|Adventure|Science Fiction|Thriller</td>\n",
       "      <td>Village Roadshow Pictures|Kennedy Miller Produ...</td>\n",
       "      <td>5/13/15</td>\n",
       "      <td>6185</td>\n",
       "      <td>7.1</td>\n",
       "      <td>2015</td>\n",
       "      <td>1.379999e+08</td>\n",
       "      <td>3.481613e+08</td>\n",
       "    </tr>\n",
       "    <tr>\n",
       "      <th>2</th>\n",
       "      <td>262500</td>\n",
       "      <td>tt2908446</td>\n",
       "      <td>13.112507</td>\n",
       "      <td>110000000</td>\n",
       "      <td>295238201</td>\n",
       "      <td>Insurgent</td>\n",
       "      <td>Shailene Woodley|Theo James|Kate Winslet|Ansel...</td>\n",
       "      <td>http://www.thedivergentseries.movie/#insurgent</td>\n",
       "      <td>Robert Schwentke</td>\n",
       "      <td>One Choice Can Destroy You</td>\n",
       "      <td>...</td>\n",
       "      <td>Beatrice Prior must confront her inner demons ...</td>\n",
       "      <td>119</td>\n",
       "      <td>Adventure|Science Fiction|Thriller</td>\n",
       "      <td>Summit Entertainment|Mandeville Films|Red Wago...</td>\n",
       "      <td>3/18/15</td>\n",
       "      <td>2480</td>\n",
       "      <td>6.3</td>\n",
       "      <td>2015</td>\n",
       "      <td>1.012000e+08</td>\n",
       "      <td>2.716190e+08</td>\n",
       "    </tr>\n",
       "    <tr>\n",
       "      <th>3</th>\n",
       "      <td>140607</td>\n",
       "      <td>tt2488496</td>\n",
       "      <td>11.173104</td>\n",
       "      <td>200000000</td>\n",
       "      <td>2068178225</td>\n",
       "      <td>Star Wars: The Force Awakens</td>\n",
       "      <td>Harrison Ford|Mark Hamill|Carrie Fisher|Adam D...</td>\n",
       "      <td>http://www.starwars.com/films/star-wars-episod...</td>\n",
       "      <td>J.J. Abrams</td>\n",
       "      <td>Every generation has a story.</td>\n",
       "      <td>...</td>\n",
       "      <td>Thirty years after defeating the Galactic Empi...</td>\n",
       "      <td>136</td>\n",
       "      <td>Action|Adventure|Science Fiction|Fantasy</td>\n",
       "      <td>Lucasfilm|Truenorth Productions|Bad Robot</td>\n",
       "      <td>12/15/15</td>\n",
       "      <td>5292</td>\n",
       "      <td>7.5</td>\n",
       "      <td>2015</td>\n",
       "      <td>1.839999e+08</td>\n",
       "      <td>1.902723e+09</td>\n",
       "    </tr>\n",
       "    <tr>\n",
       "      <th>4</th>\n",
       "      <td>168259</td>\n",
       "      <td>tt2820852</td>\n",
       "      <td>9.335014</td>\n",
       "      <td>190000000</td>\n",
       "      <td>1506249360</td>\n",
       "      <td>Furious 7</td>\n",
       "      <td>Vin Diesel|Paul Walker|Jason Statham|Michelle ...</td>\n",
       "      <td>http://www.furious7.com/</td>\n",
       "      <td>James Wan</td>\n",
       "      <td>Vengeance Hits Home</td>\n",
       "      <td>...</td>\n",
       "      <td>Deckard Shaw seeks revenge against Dominic Tor...</td>\n",
       "      <td>137</td>\n",
       "      <td>Action|Crime|Thriller</td>\n",
       "      <td>Universal Pictures|Original Film|Media Rights ...</td>\n",
       "      <td>4/1/15</td>\n",
       "      <td>2947</td>\n",
       "      <td>7.3</td>\n",
       "      <td>2015</td>\n",
       "      <td>1.747999e+08</td>\n",
       "      <td>1.385749e+09</td>\n",
       "    </tr>\n",
       "    <tr>\n",
       "      <th>5</th>\n",
       "      <td>281957</td>\n",
       "      <td>tt1663202</td>\n",
       "      <td>9.110700</td>\n",
       "      <td>135000000</td>\n",
       "      <td>532950503</td>\n",
       "      <td>The Revenant</td>\n",
       "      <td>Leonardo DiCaprio|Tom Hardy|Will Poulter|Domhn...</td>\n",
       "      <td>http://www.foxmovies.com/movies/the-revenant</td>\n",
       "      <td>Alejandro GonzÃ¡lez IÃ±Ã¡rritu</td>\n",
       "      <td>(n. One who has returned, as if from the dead.)</td>\n",
       "      <td>...</td>\n",
       "      <td>In the 1820s, a frontiersman, Hugh Glass, sets...</td>\n",
       "      <td>156</td>\n",
       "      <td>Western|Drama|Adventure|Thriller</td>\n",
       "      <td>Regency Enterprises|Appian Way|CatchPlay|Anony...</td>\n",
       "      <td>12/25/15</td>\n",
       "      <td>3929</td>\n",
       "      <td>7.2</td>\n",
       "      <td>2015</td>\n",
       "      <td>1.241999e+08</td>\n",
       "      <td>4.903142e+08</td>\n",
       "    </tr>\n",
       "    <tr>\n",
       "      <th>6</th>\n",
       "      <td>87101</td>\n",
       "      <td>tt1340138</td>\n",
       "      <td>8.654359</td>\n",
       "      <td>155000000</td>\n",
       "      <td>440603537</td>\n",
       "      <td>Terminator Genisys</td>\n",
       "      <td>Arnold Schwarzenegger|Jason Clarke|Emilia Clar...</td>\n",
       "      <td>http://www.terminatormovie.com/</td>\n",
       "      <td>Alan Taylor</td>\n",
       "      <td>Reset the future</td>\n",
       "      <td>...</td>\n",
       "      <td>The year is 2029. John Connor, leader of the r...</td>\n",
       "      <td>125</td>\n",
       "      <td>Science Fiction|Action|Thriller|Adventure</td>\n",
       "      <td>Paramount Pictures|Skydance Productions</td>\n",
       "      <td>6/23/15</td>\n",
       "      <td>2598</td>\n",
       "      <td>5.8</td>\n",
       "      <td>2015</td>\n",
       "      <td>1.425999e+08</td>\n",
       "      <td>4.053551e+08</td>\n",
       "    </tr>\n",
       "    <tr>\n",
       "      <th>7</th>\n",
       "      <td>286217</td>\n",
       "      <td>tt3659388</td>\n",
       "      <td>7.667400</td>\n",
       "      <td>108000000</td>\n",
       "      <td>595380321</td>\n",
       "      <td>The Martian</td>\n",
       "      <td>Matt Damon|Jessica Chastain|Kristen Wiig|Jeff ...</td>\n",
       "      <td>http://www.foxmovies.com/movies/the-martian</td>\n",
       "      <td>Ridley Scott</td>\n",
       "      <td>Bring Him Home</td>\n",
       "      <td>...</td>\n",
       "      <td>During a manned mission to Mars, Astronaut Mar...</td>\n",
       "      <td>141</td>\n",
       "      <td>Drama|Adventure|Science Fiction</td>\n",
       "      <td>Twentieth Century Fox Film Corporation|Scott F...</td>\n",
       "      <td>9/30/15</td>\n",
       "      <td>4572</td>\n",
       "      <td>7.6</td>\n",
       "      <td>2015</td>\n",
       "      <td>9.935996e+07</td>\n",
       "      <td>5.477497e+08</td>\n",
       "    </tr>\n",
       "    <tr>\n",
       "      <th>8</th>\n",
       "      <td>211672</td>\n",
       "      <td>tt2293640</td>\n",
       "      <td>7.404165</td>\n",
       "      <td>74000000</td>\n",
       "      <td>1156730962</td>\n",
       "      <td>Minions</td>\n",
       "      <td>Sandra Bullock|Jon Hamm|Michael Keaton|Allison...</td>\n",
       "      <td>http://www.minionsmovie.com/</td>\n",
       "      <td>Kyle Balda|Pierre Coffin</td>\n",
       "      <td>Before Gru, they had a history of bad bosses</td>\n",
       "      <td>...</td>\n",
       "      <td>Minions Stuart, Kevin and Bob are recruited by...</td>\n",
       "      <td>91</td>\n",
       "      <td>Family|Animation|Adventure|Comedy</td>\n",
       "      <td>Universal Pictures|Illumination Entertainment</td>\n",
       "      <td>6/17/15</td>\n",
       "      <td>2893</td>\n",
       "      <td>6.5</td>\n",
       "      <td>2015</td>\n",
       "      <td>6.807997e+07</td>\n",
       "      <td>1.064192e+09</td>\n",
       "    </tr>\n",
       "    <tr>\n",
       "      <th>9</th>\n",
       "      <td>150540</td>\n",
       "      <td>tt2096673</td>\n",
       "      <td>6.326804</td>\n",
       "      <td>175000000</td>\n",
       "      <td>853708609</td>\n",
       "      <td>Inside Out</td>\n",
       "      <td>Amy Poehler|Phyllis Smith|Richard Kind|Bill Ha...</td>\n",
       "      <td>http://movies.disney.com/inside-out</td>\n",
       "      <td>Pete Docter</td>\n",
       "      <td>Meet the little voices inside your head.</td>\n",
       "      <td>...</td>\n",
       "      <td>Growing up can be a bumpy road, and it's no ex...</td>\n",
       "      <td>94</td>\n",
       "      <td>Comedy|Animation|Family</td>\n",
       "      <td>Walt Disney Pictures|Pixar Animation Studios|W...</td>\n",
       "      <td>6/9/15</td>\n",
       "      <td>3935</td>\n",
       "      <td>8.0</td>\n",
       "      <td>2015</td>\n",
       "      <td>1.609999e+08</td>\n",
       "      <td>7.854116e+08</td>\n",
       "    </tr>\n",
       "  </tbody>\n",
       "</table>\n",
       "<p>10 rows × 21 columns</p>\n",
       "</div>"
      ],
      "text/plain": [
       "       id    imdb_id  popularity     budget     revenue  \\\n",
       "0  135397  tt0369610   32.985763  150000000  1513528810   \n",
       "1   76341  tt1392190   28.419936  150000000   378436354   \n",
       "2  262500  tt2908446   13.112507  110000000   295238201   \n",
       "3  140607  tt2488496   11.173104  200000000  2068178225   \n",
       "4  168259  tt2820852    9.335014  190000000  1506249360   \n",
       "5  281957  tt1663202    9.110700  135000000   532950503   \n",
       "6   87101  tt1340138    8.654359  155000000   440603537   \n",
       "7  286217  tt3659388    7.667400  108000000   595380321   \n",
       "8  211672  tt2293640    7.404165   74000000  1156730962   \n",
       "9  150540  tt2096673    6.326804  175000000   853708609   \n",
       "\n",
       "                 original_title  \\\n",
       "0                Jurassic World   \n",
       "1            Mad Max: Fury Road   \n",
       "2                     Insurgent   \n",
       "3  Star Wars: The Force Awakens   \n",
       "4                     Furious 7   \n",
       "5                  The Revenant   \n",
       "6            Terminator Genisys   \n",
       "7                   The Martian   \n",
       "8                       Minions   \n",
       "9                    Inside Out   \n",
       "\n",
       "                                                cast  \\\n",
       "0  Chris Pratt|Bryce Dallas Howard|Irrfan Khan|Vi...   \n",
       "1  Tom Hardy|Charlize Theron|Hugh Keays-Byrne|Nic...   \n",
       "2  Shailene Woodley|Theo James|Kate Winslet|Ansel...   \n",
       "3  Harrison Ford|Mark Hamill|Carrie Fisher|Adam D...   \n",
       "4  Vin Diesel|Paul Walker|Jason Statham|Michelle ...   \n",
       "5  Leonardo DiCaprio|Tom Hardy|Will Poulter|Domhn...   \n",
       "6  Arnold Schwarzenegger|Jason Clarke|Emilia Clar...   \n",
       "7  Matt Damon|Jessica Chastain|Kristen Wiig|Jeff ...   \n",
       "8  Sandra Bullock|Jon Hamm|Michael Keaton|Allison...   \n",
       "9  Amy Poehler|Phyllis Smith|Richard Kind|Bill Ha...   \n",
       "\n",
       "                                            homepage  \\\n",
       "0                      http://www.jurassicworld.com/   \n",
       "1                        http://www.madmaxmovie.com/   \n",
       "2     http://www.thedivergentseries.movie/#insurgent   \n",
       "3  http://www.starwars.com/films/star-wars-episod...   \n",
       "4                           http://www.furious7.com/   \n",
       "5       http://www.foxmovies.com/movies/the-revenant   \n",
       "6                    http://www.terminatormovie.com/   \n",
       "7        http://www.foxmovies.com/movies/the-martian   \n",
       "8                       http://www.minionsmovie.com/   \n",
       "9                http://movies.disney.com/inside-out   \n",
       "\n",
       "                         director  \\\n",
       "0                 Colin Trevorrow   \n",
       "1                   George Miller   \n",
       "2                Robert Schwentke   \n",
       "3                     J.J. Abrams   \n",
       "4                       James Wan   \n",
       "5  Alejandro GonzÃ¡lez IÃ±Ã¡rritu   \n",
       "6                     Alan Taylor   \n",
       "7                    Ridley Scott   \n",
       "8        Kyle Balda|Pierre Coffin   \n",
       "9                     Pete Docter   \n",
       "\n",
       "                                           tagline      ...       \\\n",
       "0                                The park is open.      ...        \n",
       "1                               What a Lovely Day.      ...        \n",
       "2                       One Choice Can Destroy You      ...        \n",
       "3                    Every generation has a story.      ...        \n",
       "4                              Vengeance Hits Home      ...        \n",
       "5  (n. One who has returned, as if from the dead.)      ...        \n",
       "6                                 Reset the future      ...        \n",
       "7                                   Bring Him Home      ...        \n",
       "8     Before Gru, they had a history of bad bosses      ...        \n",
       "9         Meet the little voices inside your head.      ...        \n",
       "\n",
       "                                            overview runtime  \\\n",
       "0  Twenty-two years after the events of Jurassic ...     124   \n",
       "1  An apocalyptic story set in the furthest reach...     120   \n",
       "2  Beatrice Prior must confront her inner demons ...     119   \n",
       "3  Thirty years after defeating the Galactic Empi...     136   \n",
       "4  Deckard Shaw seeks revenge against Dominic Tor...     137   \n",
       "5  In the 1820s, a frontiersman, Hugh Glass, sets...     156   \n",
       "6  The year is 2029. John Connor, leader of the r...     125   \n",
       "7  During a manned mission to Mars, Astronaut Mar...     141   \n",
       "8  Minions Stuart, Kevin and Bob are recruited by...      91   \n",
       "9  Growing up can be a bumpy road, and it's no ex...      94   \n",
       "\n",
       "                                      genres  \\\n",
       "0  Action|Adventure|Science Fiction|Thriller   \n",
       "1  Action|Adventure|Science Fiction|Thriller   \n",
       "2         Adventure|Science Fiction|Thriller   \n",
       "3   Action|Adventure|Science Fiction|Fantasy   \n",
       "4                      Action|Crime|Thriller   \n",
       "5           Western|Drama|Adventure|Thriller   \n",
       "6  Science Fiction|Action|Thriller|Adventure   \n",
       "7            Drama|Adventure|Science Fiction   \n",
       "8          Family|Animation|Adventure|Comedy   \n",
       "9                    Comedy|Animation|Family   \n",
       "\n",
       "                                production_companies release_date vote_count  \\\n",
       "0  Universal Studios|Amblin Entertainment|Legenda...       6/9/15       5562   \n",
       "1  Village Roadshow Pictures|Kennedy Miller Produ...      5/13/15       6185   \n",
       "2  Summit Entertainment|Mandeville Films|Red Wago...      3/18/15       2480   \n",
       "3          Lucasfilm|Truenorth Productions|Bad Robot     12/15/15       5292   \n",
       "4  Universal Pictures|Original Film|Media Rights ...       4/1/15       2947   \n",
       "5  Regency Enterprises|Appian Way|CatchPlay|Anony...     12/25/15       3929   \n",
       "6            Paramount Pictures|Skydance Productions      6/23/15       2598   \n",
       "7  Twentieth Century Fox Film Corporation|Scott F...      9/30/15       4572   \n",
       "8      Universal Pictures|Illumination Entertainment      6/17/15       2893   \n",
       "9  Walt Disney Pictures|Pixar Animation Studios|W...       6/9/15       3935   \n",
       "\n",
       "   vote_average  release_year    budget_adj   revenue_adj  \n",
       "0           6.5          2015  1.379999e+08  1.392446e+09  \n",
       "1           7.1          2015  1.379999e+08  3.481613e+08  \n",
       "2           6.3          2015  1.012000e+08  2.716190e+08  \n",
       "3           7.5          2015  1.839999e+08  1.902723e+09  \n",
       "4           7.3          2015  1.747999e+08  1.385749e+09  \n",
       "5           7.2          2015  1.241999e+08  4.903142e+08  \n",
       "6           5.8          2015  1.425999e+08  4.053551e+08  \n",
       "7           7.6          2015  9.935996e+07  5.477497e+08  \n",
       "8           6.5          2015  6.807997e+07  1.064192e+09  \n",
       "9           8.0          2015  1.609999e+08  7.854116e+08  \n",
       "\n",
       "[10 rows x 21 columns]"
      ]
     },
     "execution_count": 4,
     "metadata": {},
     "output_type": "execute_result"
    }
   ],
   "source": [
    "# Load data\n",
    "df = pd.read_csv('tmdb-movies.csv')\n",
    "df.head(10)"
   ]
  },
  {
   "cell_type": "code",
   "execution_count": 5,
   "metadata": {
    "slideshow": {
     "slide_type": "skip"
    }
   },
   "outputs": [
    {
     "data": {
      "text/plain": [
       "(10866, 21)"
      ]
     },
     "execution_count": 5,
     "metadata": {},
     "output_type": "execute_result"
    }
   ],
   "source": [
    "df.shape"
   ]
  },
  {
   "cell_type": "code",
   "execution_count": 6,
   "metadata": {
    "slideshow": {
     "slide_type": "skip"
    }
   },
   "outputs": [
    {
     "data": {
      "text/plain": [
       "id                      10865\n",
       "imdb_id                 10855\n",
       "popularity              10814\n",
       "budget                    557\n",
       "revenue                  4702\n",
       "original_title          10571\n",
       "cast                    10719\n",
       "homepage                 2896\n",
       "director                 5067\n",
       "tagline                  7997\n",
       "keywords                 8804\n",
       "overview                10847\n",
       "runtime                   247\n",
       "genres                   2039\n",
       "production_companies     7445\n",
       "release_date             5909\n",
       "vote_count               1289\n",
       "vote_average               72\n",
       "release_year               56\n",
       "budget_adj               2614\n",
       "revenue_adj              4840\n",
       "dtype: int64"
      ]
     },
     "execution_count": 6,
     "metadata": {},
     "output_type": "execute_result"
    }
   ],
   "source": [
    "df.nunique()"
   ]
  },
  {
   "cell_type": "code",
   "execution_count": 7,
   "metadata": {
    "slideshow": {
     "slide_type": "skip"
    }
   },
   "outputs": [
    {
     "name": "stdout",
     "output_type": "stream",
     "text": [
      "<class 'pandas.core.frame.DataFrame'>\n",
      "RangeIndex: 10866 entries, 0 to 10865\n",
      "Data columns (total 21 columns):\n",
      "id                      10866 non-null int64\n",
      "imdb_id                 10856 non-null object\n",
      "popularity              10866 non-null float64\n",
      "budget                  10866 non-null int64\n",
      "revenue                 10866 non-null int64\n",
      "original_title          10866 non-null object\n",
      "cast                    10790 non-null object\n",
      "homepage                2936 non-null object\n",
      "director                10822 non-null object\n",
      "tagline                 8042 non-null object\n",
      "keywords                9373 non-null object\n",
      "overview                10862 non-null object\n",
      "runtime                 10866 non-null int64\n",
      "genres                  10843 non-null object\n",
      "production_companies    9836 non-null object\n",
      "release_date            10866 non-null object\n",
      "vote_count              10866 non-null int64\n",
      "vote_average            10866 non-null float64\n",
      "release_year            10866 non-null int64\n",
      "budget_adj              10866 non-null float64\n",
      "revenue_adj             10866 non-null float64\n",
      "dtypes: float64(4), int64(6), object(11)\n",
      "memory usage: 1.7+ MB\n"
     ]
    }
   ],
   "source": [
    "df.info()"
   ]
  },
  {
   "cell_type": "code",
   "execution_count": 8,
   "metadata": {
    "scrolled": true,
    "slideshow": {
     "slide_type": "skip"
    }
   },
   "outputs": [
    {
     "data": {
      "text/html": [
       "<div>\n",
       "<style scoped>\n",
       "    .dataframe tbody tr th:only-of-type {\n",
       "        vertical-align: middle;\n",
       "    }\n",
       "\n",
       "    .dataframe tbody tr th {\n",
       "        vertical-align: top;\n",
       "    }\n",
       "\n",
       "    .dataframe thead th {\n",
       "        text-align: right;\n",
       "    }\n",
       "</style>\n",
       "<table border=\"1\" class=\"dataframe\">\n",
       "  <thead>\n",
       "    <tr style=\"text-align: right;\">\n",
       "      <th></th>\n",
       "      <th>id</th>\n",
       "      <th>popularity</th>\n",
       "      <th>budget</th>\n",
       "      <th>revenue</th>\n",
       "      <th>runtime</th>\n",
       "      <th>vote_count</th>\n",
       "      <th>vote_average</th>\n",
       "      <th>release_year</th>\n",
       "      <th>budget_adj</th>\n",
       "      <th>revenue_adj</th>\n",
       "    </tr>\n",
       "  </thead>\n",
       "  <tbody>\n",
       "    <tr>\n",
       "      <th>count</th>\n",
       "      <td>10866.000000</td>\n",
       "      <td>10866.000000</td>\n",
       "      <td>1.086600e+04</td>\n",
       "      <td>1.086600e+04</td>\n",
       "      <td>10866.000000</td>\n",
       "      <td>10866.000000</td>\n",
       "      <td>10866.000000</td>\n",
       "      <td>10866.000000</td>\n",
       "      <td>1.086600e+04</td>\n",
       "      <td>1.086600e+04</td>\n",
       "    </tr>\n",
       "    <tr>\n",
       "      <th>mean</th>\n",
       "      <td>66064.177434</td>\n",
       "      <td>0.646441</td>\n",
       "      <td>1.462570e+07</td>\n",
       "      <td>3.982332e+07</td>\n",
       "      <td>102.070863</td>\n",
       "      <td>217.389748</td>\n",
       "      <td>5.974922</td>\n",
       "      <td>2001.322658</td>\n",
       "      <td>1.755104e+07</td>\n",
       "      <td>5.136436e+07</td>\n",
       "    </tr>\n",
       "    <tr>\n",
       "      <th>std</th>\n",
       "      <td>92130.136561</td>\n",
       "      <td>1.000185</td>\n",
       "      <td>3.091321e+07</td>\n",
       "      <td>1.170035e+08</td>\n",
       "      <td>31.381405</td>\n",
       "      <td>575.619058</td>\n",
       "      <td>0.935142</td>\n",
       "      <td>12.812941</td>\n",
       "      <td>3.430616e+07</td>\n",
       "      <td>1.446325e+08</td>\n",
       "    </tr>\n",
       "    <tr>\n",
       "      <th>min</th>\n",
       "      <td>5.000000</td>\n",
       "      <td>0.000065</td>\n",
       "      <td>0.000000e+00</td>\n",
       "      <td>0.000000e+00</td>\n",
       "      <td>0.000000</td>\n",
       "      <td>10.000000</td>\n",
       "      <td>1.500000</td>\n",
       "      <td>1960.000000</td>\n",
       "      <td>0.000000e+00</td>\n",
       "      <td>0.000000e+00</td>\n",
       "    </tr>\n",
       "    <tr>\n",
       "      <th>25%</th>\n",
       "      <td>10596.250000</td>\n",
       "      <td>0.207583</td>\n",
       "      <td>0.000000e+00</td>\n",
       "      <td>0.000000e+00</td>\n",
       "      <td>90.000000</td>\n",
       "      <td>17.000000</td>\n",
       "      <td>5.400000</td>\n",
       "      <td>1995.000000</td>\n",
       "      <td>0.000000e+00</td>\n",
       "      <td>0.000000e+00</td>\n",
       "    </tr>\n",
       "    <tr>\n",
       "      <th>50%</th>\n",
       "      <td>20669.000000</td>\n",
       "      <td>0.383856</td>\n",
       "      <td>0.000000e+00</td>\n",
       "      <td>0.000000e+00</td>\n",
       "      <td>99.000000</td>\n",
       "      <td>38.000000</td>\n",
       "      <td>6.000000</td>\n",
       "      <td>2006.000000</td>\n",
       "      <td>0.000000e+00</td>\n",
       "      <td>0.000000e+00</td>\n",
       "    </tr>\n",
       "    <tr>\n",
       "      <th>75%</th>\n",
       "      <td>75610.000000</td>\n",
       "      <td>0.713817</td>\n",
       "      <td>1.500000e+07</td>\n",
       "      <td>2.400000e+07</td>\n",
       "      <td>111.000000</td>\n",
       "      <td>145.750000</td>\n",
       "      <td>6.600000</td>\n",
       "      <td>2011.000000</td>\n",
       "      <td>2.085325e+07</td>\n",
       "      <td>3.369710e+07</td>\n",
       "    </tr>\n",
       "    <tr>\n",
       "      <th>max</th>\n",
       "      <td>417859.000000</td>\n",
       "      <td>32.985763</td>\n",
       "      <td>4.250000e+08</td>\n",
       "      <td>2.781506e+09</td>\n",
       "      <td>900.000000</td>\n",
       "      <td>9767.000000</td>\n",
       "      <td>9.200000</td>\n",
       "      <td>2015.000000</td>\n",
       "      <td>4.250000e+08</td>\n",
       "      <td>2.827124e+09</td>\n",
       "    </tr>\n",
       "  </tbody>\n",
       "</table>\n",
       "</div>"
      ],
      "text/plain": [
       "                  id    popularity        budget       revenue       runtime  \\\n",
       "count   10866.000000  10866.000000  1.086600e+04  1.086600e+04  10866.000000   \n",
       "mean    66064.177434      0.646441  1.462570e+07  3.982332e+07    102.070863   \n",
       "std     92130.136561      1.000185  3.091321e+07  1.170035e+08     31.381405   \n",
       "min         5.000000      0.000065  0.000000e+00  0.000000e+00      0.000000   \n",
       "25%     10596.250000      0.207583  0.000000e+00  0.000000e+00     90.000000   \n",
       "50%     20669.000000      0.383856  0.000000e+00  0.000000e+00     99.000000   \n",
       "75%     75610.000000      0.713817  1.500000e+07  2.400000e+07    111.000000   \n",
       "max    417859.000000     32.985763  4.250000e+08  2.781506e+09    900.000000   \n",
       "\n",
       "         vote_count  vote_average  release_year    budget_adj   revenue_adj  \n",
       "count  10866.000000  10866.000000  10866.000000  1.086600e+04  1.086600e+04  \n",
       "mean     217.389748      5.974922   2001.322658  1.755104e+07  5.136436e+07  \n",
       "std      575.619058      0.935142     12.812941  3.430616e+07  1.446325e+08  \n",
       "min       10.000000      1.500000   1960.000000  0.000000e+00  0.000000e+00  \n",
       "25%       17.000000      5.400000   1995.000000  0.000000e+00  0.000000e+00  \n",
       "50%       38.000000      6.000000   2006.000000  0.000000e+00  0.000000e+00  \n",
       "75%      145.750000      6.600000   2011.000000  2.085325e+07  3.369710e+07  \n",
       "max     9767.000000      9.200000   2015.000000  4.250000e+08  2.827124e+09  "
      ]
     },
     "execution_count": 8,
     "metadata": {},
     "output_type": "execute_result"
    }
   ],
   "source": [
    "df.describe()"
   ]
  },
  {
   "cell_type": "code",
   "execution_count": 9,
   "metadata": {
    "slideshow": {
     "slide_type": "skip"
    }
   },
   "outputs": [
    {
     "data": {
      "text/plain": [
       "1"
      ]
     },
     "execution_count": 9,
     "metadata": {},
     "output_type": "execute_result"
    }
   ],
   "source": [
    "df.duplicated().sum()"
   ]
  },
  {
   "cell_type": "code",
   "execution_count": 10,
   "metadata": {
    "slideshow": {
     "slide_type": "skip"
    }
   },
   "outputs": [
    {
     "data": {
      "text/html": [
       "<div>\n",
       "<style scoped>\n",
       "    .dataframe tbody tr th:only-of-type {\n",
       "        vertical-align: middle;\n",
       "    }\n",
       "\n",
       "    .dataframe tbody tr th {\n",
       "        vertical-align: top;\n",
       "    }\n",
       "\n",
       "    .dataframe thead th {\n",
       "        text-align: right;\n",
       "    }\n",
       "</style>\n",
       "<table border=\"1\" class=\"dataframe\">\n",
       "  <thead>\n",
       "    <tr style=\"text-align: right;\">\n",
       "      <th></th>\n",
       "      <th>id</th>\n",
       "      <th>imdb_id</th>\n",
       "      <th>popularity</th>\n",
       "      <th>budget</th>\n",
       "      <th>revenue</th>\n",
       "      <th>original_title</th>\n",
       "      <th>cast</th>\n",
       "      <th>homepage</th>\n",
       "      <th>director</th>\n",
       "      <th>tagline</th>\n",
       "      <th>...</th>\n",
       "      <th>overview</th>\n",
       "      <th>runtime</th>\n",
       "      <th>genres</th>\n",
       "      <th>production_companies</th>\n",
       "      <th>release_date</th>\n",
       "      <th>vote_count</th>\n",
       "      <th>vote_average</th>\n",
       "      <th>release_year</th>\n",
       "      <th>budget_adj</th>\n",
       "      <th>revenue_adj</th>\n",
       "    </tr>\n",
       "  </thead>\n",
       "  <tbody>\n",
       "    <tr>\n",
       "      <th>2090</th>\n",
       "      <td>42194</td>\n",
       "      <td>tt0411951</td>\n",
       "      <td>0.59643</td>\n",
       "      <td>30000000</td>\n",
       "      <td>967000</td>\n",
       "      <td>TEKKEN</td>\n",
       "      <td>Jon Foo|Kelly Overton|Cary-Hiroyuki Tagawa|Ian...</td>\n",
       "      <td>NaN</td>\n",
       "      <td>Dwight H. Little</td>\n",
       "      <td>Survival is no game</td>\n",
       "      <td>...</td>\n",
       "      <td>In the year of 2039, after World Wars destroy ...</td>\n",
       "      <td>92</td>\n",
       "      <td>Crime|Drama|Action|Thriller|Science Fiction</td>\n",
       "      <td>Namco|Light Song Films</td>\n",
       "      <td>3/20/10</td>\n",
       "      <td>110</td>\n",
       "      <td>5.0</td>\n",
       "      <td>2010</td>\n",
       "      <td>30000000.0</td>\n",
       "      <td>967000.0</td>\n",
       "    </tr>\n",
       "  </tbody>\n",
       "</table>\n",
       "<p>1 rows × 21 columns</p>\n",
       "</div>"
      ],
      "text/plain": [
       "         id    imdb_id  popularity    budget  revenue original_title  \\\n",
       "2090  42194  tt0411951     0.59643  30000000   967000         TEKKEN   \n",
       "\n",
       "                                                   cast homepage  \\\n",
       "2090  Jon Foo|Kelly Overton|Cary-Hiroyuki Tagawa|Ian...      NaN   \n",
       "\n",
       "              director              tagline     ...       \\\n",
       "2090  Dwight H. Little  Survival is no game     ...        \n",
       "\n",
       "                                               overview runtime  \\\n",
       "2090  In the year of 2039, after World Wars destroy ...      92   \n",
       "\n",
       "                                           genres    production_companies  \\\n",
       "2090  Crime|Drama|Action|Thriller|Science Fiction  Namco|Light Song Films   \n",
       "\n",
       "     release_date vote_count  vote_average  release_year  budget_adj  \\\n",
       "2090      3/20/10        110           5.0          2010  30000000.0   \n",
       "\n",
       "      revenue_adj  \n",
       "2090     967000.0  \n",
       "\n",
       "[1 rows x 21 columns]"
      ]
     },
     "execution_count": 10,
     "metadata": {},
     "output_type": "execute_result"
    }
   ],
   "source": [
    "df[df.duplicated()]"
   ]
  },
  {
   "cell_type": "code",
   "execution_count": 11,
   "metadata": {
    "slideshow": {
     "slide_type": "skip"
    }
   },
   "outputs": [
    {
     "data": {
      "text/plain": [
       "13434"
      ]
     },
     "execution_count": 11,
     "metadata": {},
     "output_type": "execute_result"
    }
   ],
   "source": [
    "df.isnull().sum(1).sum()"
   ]
  },
  {
   "cell_type": "code",
   "execution_count": 12,
   "metadata": {
    "slideshow": {
     "slide_type": "skip"
    }
   },
   "outputs": [
    {
     "data": {
      "image/png": "[encoded data removed]",
      "text/plain": [
       "<matplotlib.figure.Figure at 0x7f0a427ce4a8>"
      ]
     },
     "metadata": {
      "needs_background": "light"
     },
     "output_type": "display_data"
    }
   ],
   "source": [
    "df.hist(figsize=(8,8));"
   ]
  },
  {
   "cell_type": "markdown",
   "metadata": {
    "scrolled": true,
    "slideshow": {
     "slide_type": "slide"
    }
   },
   "source": [
    "<a id='wrangling'></a>\n",
    "\n",
    "### observation:\n",
    "\n",
    ">1. There are many columns need to be removed as they are not important for our analysis.\n",
    "    <ul>\n",
    "    <li>id\n",
    "    <li>imdb_id\n",
    "    <li>homepage\n",
    "    <li>tagline\n",
    "    <li>keywords\n",
    "    <li>overview\n",
    "    <li>release_date\n",
    "</ul>\n",
    "\n",
    ">2. There is one duplicated row need to dropped.\n",
    "\n",
    ">3. There are many rows with NaN values need to dropped.\n",
    "\n",
    ">4. There are many 0 values found in the histograms and this will affect the analysis results, so we need to drop any row with 0 values.\n",
    "\n",
    ">5. There are many columns containing several values, which are seperated by an \"|\",so we need to split them.\n",
    "    <ul>\n",
    "    <li>cast\n",
    "    <li>director\n",
    "    <li>keywords\n",
    "    <li>genres\n",
    "    <li>production_companies\n",
    "</ul>\n",
    "\n",
    "\n"
   ]
  },
  {
   "cell_type": "markdown",
   "metadata": {
    "slideshow": {
     "slide_type": "slide"
    }
   },
   "source": [
    "\n",
    "### Data Cleansing\n",
    "\n",
    " "
   ]
  },
  {
   "cell_type": "code",
   "execution_count": 13,
   "metadata": {
    "slideshow": {
     "slide_type": "skip"
    }
   },
   "outputs": [
    {
     "data": {
      "text/html": [
       "<div>\n",
       "<style scoped>\n",
       "    .dataframe tbody tr th:only-of-type {\n",
       "        vertical-align: middle;\n",
       "    }\n",
       "\n",
       "    .dataframe tbody tr th {\n",
       "        vertical-align: top;\n",
       "    }\n",
       "\n",
       "    .dataframe thead th {\n",
       "        text-align: right;\n",
       "    }\n",
       "</style>\n",
       "<table border=\"1\" class=\"dataframe\">\n",
       "  <thead>\n",
       "    <tr style=\"text-align: right;\">\n",
       "      <th></th>\n",
       "      <th>popularity</th>\n",
       "      <th>budget</th>\n",
       "      <th>revenue</th>\n",
       "      <th>original_title</th>\n",
       "      <th>cast</th>\n",
       "      <th>director</th>\n",
       "      <th>runtime</th>\n",
       "      <th>genres</th>\n",
       "      <th>production_companies</th>\n",
       "      <th>vote_count</th>\n",
       "      <th>vote_average</th>\n",
       "      <th>release_year</th>\n",
       "      <th>budget_adj</th>\n",
       "      <th>revenue_adj</th>\n",
       "    </tr>\n",
       "  </thead>\n",
       "  <tbody>\n",
       "    <tr>\n",
       "      <th>0</th>\n",
       "      <td>32.985763</td>\n",
       "      <td>150000000</td>\n",
       "      <td>1513528810</td>\n",
       "      <td>Jurassic World</td>\n",
       "      <td>Chris Pratt|Bryce Dallas Howard|Irrfan Khan|Vi...</td>\n",
       "      <td>Colin Trevorrow</td>\n",
       "      <td>124</td>\n",
       "      <td>Action|Adventure|Science Fiction|Thriller</td>\n",
       "      <td>Universal Studios|Amblin Entertainment|Legenda...</td>\n",
       "      <td>5562</td>\n",
       "      <td>6.5</td>\n",
       "      <td>2015</td>\n",
       "      <td>1.379999e+08</td>\n",
       "      <td>1.392446e+09</td>\n",
       "    </tr>\n",
       "  </tbody>\n",
       "</table>\n",
       "</div>"
      ],
      "text/plain": [
       "   popularity     budget     revenue  original_title  \\\n",
       "0   32.985763  150000000  1513528810  Jurassic World   \n",
       "\n",
       "                                                cast         director  \\\n",
       "0  Chris Pratt|Bryce Dallas Howard|Irrfan Khan|Vi...  Colin Trevorrow   \n",
       "\n",
       "   runtime                                     genres  \\\n",
       "0      124  Action|Adventure|Science Fiction|Thriller   \n",
       "\n",
       "                                production_companies  vote_count  \\\n",
       "0  Universal Studios|Amblin Entertainment|Legenda...        5562   \n",
       "\n",
       "   vote_average  release_year    budget_adj   revenue_adj  \n",
       "0           6.5          2015  1.379999e+08  1.392446e+09  "
      ]
     },
     "execution_count": 13,
     "metadata": {},
     "output_type": "execute_result"
    }
   ],
   "source": [
    "# Remove non-important columns\n",
    "\n",
    "df=df.drop(['id', 'imdb_id', 'homepage',  'tagline', 'keywords', 'overview','release_date'],axis=1)\n",
    "df.head(1)"
   ]
  },
  {
   "cell_type": "code",
   "execution_count": 14,
   "metadata": {
    "slideshow": {
     "slide_type": "skip"
    }
   },
   "outputs": [
    {
     "data": {
      "text/plain": [
       "0"
      ]
     },
     "execution_count": 14,
     "metadata": {},
     "output_type": "execute_result"
    }
   ],
   "source": [
    "# Remove duplicated rows.\n",
    "\n",
    "df=df.drop(df[df.duplicated()].index)\n",
    "df.duplicated().sum()"
   ]
  },
  {
   "cell_type": "code",
   "execution_count": 15,
   "metadata": {
    "slideshow": {
     "slide_type": "skip"
    }
   },
   "outputs": [
    {
     "data": {
      "text/plain": [
       "0"
      ]
     },
     "execution_count": 15,
     "metadata": {},
     "output_type": "execute_result"
    }
   ],
   "source": [
    "# Remove rows with null values.\n",
    "df=df.dropna()\n",
    "df.isnull().sum(1).sum()"
   ]
  },
  {
   "cell_type": "code",
   "execution_count": 16,
   "metadata": {
    "slideshow": {
     "slide_type": "skip"
    }
   },
   "outputs": [
    {
     "data": {
      "text/html": [
       "<div>\n",
       "<style scoped>\n",
       "    .dataframe tbody tr th:only-of-type {\n",
       "        vertical-align: middle;\n",
       "    }\n",
       "\n",
       "    .dataframe tbody tr th {\n",
       "        vertical-align: top;\n",
       "    }\n",
       "\n",
       "    .dataframe thead th {\n",
       "        text-align: right;\n",
       "    }\n",
       "</style>\n",
       "<table border=\"1\" class=\"dataframe\">\n",
       "  <thead>\n",
       "    <tr style=\"text-align: right;\">\n",
       "      <th></th>\n",
       "      <th>popularity</th>\n",
       "      <th>budget</th>\n",
       "      <th>revenue</th>\n",
       "      <th>runtime</th>\n",
       "      <th>vote_count</th>\n",
       "      <th>vote_average</th>\n",
       "      <th>release_year</th>\n",
       "      <th>budget_adj</th>\n",
       "      <th>revenue_adj</th>\n",
       "    </tr>\n",
       "  </thead>\n",
       "  <tbody>\n",
       "    <tr>\n",
       "      <th>count</th>\n",
       "      <td>3805.000000</td>\n",
       "      <td>3.805000e+03</td>\n",
       "      <td>3.805000e+03</td>\n",
       "      <td>3805.000000</td>\n",
       "      <td>3805.000000</td>\n",
       "      <td>3805.000000</td>\n",
       "      <td>3805.000000</td>\n",
       "      <td>3.805000e+03</td>\n",
       "      <td>3.805000e+03</td>\n",
       "    </tr>\n",
       "    <tr>\n",
       "      <th>mean</th>\n",
       "      <td>1.203784</td>\n",
       "      <td>3.760800e+07</td>\n",
       "      <td>1.089734e+08</td>\n",
       "      <td>109.351117</td>\n",
       "      <td>534.159001</td>\n",
       "      <td>6.170565</td>\n",
       "      <td>2001.229172</td>\n",
       "      <td>4.471977e+07</td>\n",
       "      <td>1.387159e+08</td>\n",
       "    </tr>\n",
       "    <tr>\n",
       "      <th>std</th>\n",
       "      <td>1.480569</td>\n",
       "      <td>4.232179e+07</td>\n",
       "      <td>1.772976e+08</td>\n",
       "      <td>19.845678</td>\n",
       "      <td>883.757588</td>\n",
       "      <td>0.792437</td>\n",
       "      <td>11.329616</td>\n",
       "      <td>4.488697e+07</td>\n",
       "      <td>2.169973e+08</td>\n",
       "    </tr>\n",
       "    <tr>\n",
       "      <th>min</th>\n",
       "      <td>0.010335</td>\n",
       "      <td>1.000000e+00</td>\n",
       "      <td>2.000000e+00</td>\n",
       "      <td>15.000000</td>\n",
       "      <td>10.000000</td>\n",
       "      <td>2.200000</td>\n",
       "      <td>1960.000000</td>\n",
       "      <td>9.693980e-01</td>\n",
       "      <td>2.370705e+00</td>\n",
       "    </tr>\n",
       "    <tr>\n",
       "      <th>25%</th>\n",
       "      <td>0.470651</td>\n",
       "      <td>1.000000e+07</td>\n",
       "      <td>1.433379e+07</td>\n",
       "      <td>96.000000</td>\n",
       "      <td>74.000000</td>\n",
       "      <td>5.700000</td>\n",
       "      <td>1995.000000</td>\n",
       "      <td>1.354637e+07</td>\n",
       "      <td>1.925371e+07</td>\n",
       "    </tr>\n",
       "    <tr>\n",
       "      <th>50%</th>\n",
       "      <td>0.810805</td>\n",
       "      <td>2.500000e+07</td>\n",
       "      <td>4.621664e+07</td>\n",
       "      <td>106.000000</td>\n",
       "      <td>209.000000</td>\n",
       "      <td>6.200000</td>\n",
       "      <td>2004.000000</td>\n",
       "      <td>3.038360e+07</td>\n",
       "      <td>6.284688e+07</td>\n",
       "    </tr>\n",
       "    <tr>\n",
       "      <th>75%</th>\n",
       "      <td>1.387163</td>\n",
       "      <td>5.000000e+07</td>\n",
       "      <td>1.260695e+08</td>\n",
       "      <td>119.000000</td>\n",
       "      <td>584.000000</td>\n",
       "      <td>6.700000</td>\n",
       "      <td>2010.000000</td>\n",
       "      <td>6.084153e+07</td>\n",
       "      <td>1.658054e+08</td>\n",
       "    </tr>\n",
       "    <tr>\n",
       "      <th>max</th>\n",
       "      <td>32.985763</td>\n",
       "      <td>4.250000e+08</td>\n",
       "      <td>2.781506e+09</td>\n",
       "      <td>338.000000</td>\n",
       "      <td>9767.000000</td>\n",
       "      <td>8.400000</td>\n",
       "      <td>2015.000000</td>\n",
       "      <td>4.250000e+08</td>\n",
       "      <td>2.827124e+09</td>\n",
       "    </tr>\n",
       "  </tbody>\n",
       "</table>\n",
       "</div>"
      ],
      "text/plain": [
       "        popularity        budget       revenue      runtime   vote_count  \\\n",
       "count  3805.000000  3.805000e+03  3.805000e+03  3805.000000  3805.000000   \n",
       "mean      1.203784  3.760800e+07  1.089734e+08   109.351117   534.159001   \n",
       "std       1.480569  4.232179e+07  1.772976e+08    19.845678   883.757588   \n",
       "min       0.010335  1.000000e+00  2.000000e+00    15.000000    10.000000   \n",
       "25%       0.470651  1.000000e+07  1.433379e+07    96.000000    74.000000   \n",
       "50%       0.810805  2.500000e+07  4.621664e+07   106.000000   209.000000   \n",
       "75%       1.387163  5.000000e+07  1.260695e+08   119.000000   584.000000   \n",
       "max      32.985763  4.250000e+08  2.781506e+09   338.000000  9767.000000   \n",
       "\n",
       "       vote_average  release_year    budget_adj   revenue_adj  \n",
       "count   3805.000000   3805.000000  3.805000e+03  3.805000e+03  \n",
       "mean       6.170565   2001.229172  4.471977e+07  1.387159e+08  \n",
       "std        0.792437     11.329616  4.488697e+07  2.169973e+08  \n",
       "min        2.200000   1960.000000  9.693980e-01  2.370705e+00  \n",
       "25%        5.700000   1995.000000  1.354637e+07  1.925371e+07  \n",
       "50%        6.200000   2004.000000  3.038360e+07  6.284688e+07  \n",
       "75%        6.700000   2010.000000  6.084153e+07  1.658054e+08  \n",
       "max        8.400000   2015.000000  4.250000e+08  2.827124e+09  "
      ]
     },
     "execution_count": 16,
     "metadata": {},
     "output_type": "execute_result"
    }
   ],
   "source": [
    "# Remove rows with 0 values.\n",
    "df=df[df!=0]\n",
    "df=df.dropna()\n",
    "df.describe()"
   ]
  },
  {
   "cell_type": "code",
   "execution_count": 17,
   "metadata": {
    "slideshow": {
     "slide_type": "skip"
    }
   },
   "outputs": [
    {
     "name": "stdout",
     "output_type": "stream",
     "text": [
      "<class 'pandas.core.frame.DataFrame'>\n",
      "Int64Index: 3805 entries, 0 to 10848\n",
      "Data columns (total 26 columns):\n",
      "popularity               3805 non-null float64\n",
      "budget                   3805 non-null float64\n",
      "revenue                  3805 non-null float64\n",
      "original_title           3805 non-null object\n",
      "director                 3805 non-null object\n",
      "runtime                  3805 non-null float64\n",
      "vote_count               3805 non-null int64\n",
      "vote_average             3805 non-null float64\n",
      "release_year             3805 non-null int64\n",
      "budget_adj               3805 non-null float64\n",
      "revenue_adj              3805 non-null float64\n",
      "cast0                    3805 non-null object\n",
      "cast1                    3802 non-null object\n",
      "cast2                    3802 non-null object\n",
      "cast3                    3794 non-null object\n",
      "cast4                    3776 non-null object\n",
      "genres0                  3805 non-null object\n",
      "genres1                  3169 non-null object\n",
      "genres2                  2089 non-null object\n",
      "genres3                  862 non-null object\n",
      "genres4                  255 non-null object\n",
      "production_companies0    3805 non-null object\n",
      "production_companies1    2924 non-null object\n",
      "production_companies2    1972 non-null object\n",
      "production_companies3    1188 non-null object\n",
      "production_companies4    692 non-null object\n",
      "dtypes: float64(7), int64(2), object(17)\n",
      "memory usage: 962.6+ KB\n"
     ]
    }
   ],
   "source": [
    "# Apply split function:\n",
    "\n",
    "df_n=spl( df ,  ['cast', 'genres', 'production_companies'] , '|')\n",
    "df_n.info()"
   ]
  },
  {
   "cell_type": "markdown",
   "metadata": {
    "slideshow": {
     "slide_type": "slide"
    }
   },
   "source": [
    "## Answering Questions \n"
   ]
  },
  {
   "cell_type": "markdown",
   "metadata": {
    "slideshow": {
     "slide_type": "slide"
    }
   },
   "source": [
    "### Q1 Who is the actor with most movies?\n"
   ]
  },
  {
   "cell_type": "code",
   "execution_count": 18,
   "metadata": {
    "slideshow": {
     "slide_type": "skip"
    }
   },
   "outputs": [],
   "source": [
    "# Apply combine Function to combine multiple columns into different shapes.\n",
    "\n",
    "a,b = comp( df_n , ['cast0', 'cast1', 'cast2', 'cast3', 'cast4'] , 'original_title')"
   ]
  },
  {
   "cell_type": "code",
   "execution_count": 19,
   "metadata": {
    "slideshow": {
     "slide_type": "skip"
    }
   },
   "outputs": [
    {
     "data": {
      "text/html": [
       "<div>\n",
       "<style scoped>\n",
       "    .dataframe tbody tr th:only-of-type {\n",
       "        vertical-align: middle;\n",
       "    }\n",
       "\n",
       "    .dataframe tbody tr th {\n",
       "        vertical-align: top;\n",
       "    }\n",
       "\n",
       "    .dataframe thead th {\n",
       "        text-align: right;\n",
       "    }\n",
       "</style>\n",
       "<table border=\"1\" class=\"dataframe\">\n",
       "  <thead>\n",
       "    <tr style=\"text-align: right;\">\n",
       "      <th></th>\n",
       "      <th></th>\n",
       "      <th>0</th>\n",
       "    </tr>\n",
       "    <tr>\n",
       "      <th>original_title</th>\n",
       "      <th></th>\n",
       "      <th></th>\n",
       "    </tr>\n",
       "  </thead>\n",
       "  <tbody>\n",
       "    <tr>\n",
       "      <th rowspan=\"5\" valign=\"top\">Jurassic World</th>\n",
       "      <th>cast0</th>\n",
       "      <td>Chris Pratt</td>\n",
       "    </tr>\n",
       "    <tr>\n",
       "      <th>cast1</th>\n",
       "      <td>Bryce Dallas Howard</td>\n",
       "    </tr>\n",
       "    <tr>\n",
       "      <th>cast2</th>\n",
       "      <td>Irrfan Khan</td>\n",
       "    </tr>\n",
       "    <tr>\n",
       "      <th>cast3</th>\n",
       "      <td>Vincent D'Onofrio</td>\n",
       "    </tr>\n",
       "    <tr>\n",
       "      <th>cast4</th>\n",
       "      <td>Nick Robinson</td>\n",
       "    </tr>\n",
       "    <tr>\n",
       "      <th rowspan=\"5\" valign=\"top\">Mad Max: Fury Road</th>\n",
       "      <th>cast0</th>\n",
       "      <td>Tom Hardy</td>\n",
       "    </tr>\n",
       "    <tr>\n",
       "      <th>cast1</th>\n",
       "      <td>Charlize Theron</td>\n",
       "    </tr>\n",
       "    <tr>\n",
       "      <th>cast2</th>\n",
       "      <td>Hugh Keays-Byrne</td>\n",
       "    </tr>\n",
       "    <tr>\n",
       "      <th>cast3</th>\n",
       "      <td>Nicholas Hoult</td>\n",
       "    </tr>\n",
       "    <tr>\n",
       "      <th>cast4</th>\n",
       "      <td>Josh Helman</td>\n",
       "    </tr>\n",
       "    <tr>\n",
       "      <th rowspan=\"5\" valign=\"top\">Insurgent</th>\n",
       "      <th>cast0</th>\n",
       "      <td>Shailene Woodley</td>\n",
       "    </tr>\n",
       "    <tr>\n",
       "      <th>cast1</th>\n",
       "      <td>Theo James</td>\n",
       "    </tr>\n",
       "    <tr>\n",
       "      <th>cast2</th>\n",
       "      <td>Kate Winslet</td>\n",
       "    </tr>\n",
       "    <tr>\n",
       "      <th>cast3</th>\n",
       "      <td>Ansel Elgort</td>\n",
       "    </tr>\n",
       "    <tr>\n",
       "      <th>cast4</th>\n",
       "      <td>Miles Teller</td>\n",
       "    </tr>\n",
       "    <tr>\n",
       "      <th rowspan=\"5\" valign=\"top\">Star Wars: The Force Awakens</th>\n",
       "      <th>cast0</th>\n",
       "      <td>Harrison Ford</td>\n",
       "    </tr>\n",
       "    <tr>\n",
       "      <th>cast1</th>\n",
       "      <td>Mark Hamill</td>\n",
       "    </tr>\n",
       "    <tr>\n",
       "      <th>cast2</th>\n",
       "      <td>Carrie Fisher</td>\n",
       "    </tr>\n",
       "    <tr>\n",
       "      <th>cast3</th>\n",
       "      <td>Adam Driver</td>\n",
       "    </tr>\n",
       "    <tr>\n",
       "      <th>cast4</th>\n",
       "      <td>Daisy Ridley</td>\n",
       "    </tr>\n",
       "    <tr>\n",
       "      <th rowspan=\"5\" valign=\"top\">Furious 7</th>\n",
       "      <th>cast0</th>\n",
       "      <td>Vin Diesel</td>\n",
       "    </tr>\n",
       "    <tr>\n",
       "      <th>cast1</th>\n",
       "      <td>Paul Walker</td>\n",
       "    </tr>\n",
       "    <tr>\n",
       "      <th>cast2</th>\n",
       "      <td>Jason Statham</td>\n",
       "    </tr>\n",
       "    <tr>\n",
       "      <th>cast3</th>\n",
       "      <td>Michelle Rodriguez</td>\n",
       "    </tr>\n",
       "    <tr>\n",
       "      <th>cast4</th>\n",
       "      <td>Dwayne Johnson</td>\n",
       "    </tr>\n",
       "    <tr>\n",
       "      <th rowspan=\"5\" valign=\"top\">The Revenant</th>\n",
       "      <th>cast0</th>\n",
       "      <td>Leonardo DiCaprio</td>\n",
       "    </tr>\n",
       "    <tr>\n",
       "      <th>cast1</th>\n",
       "      <td>Tom Hardy</td>\n",
       "    </tr>\n",
       "    <tr>\n",
       "      <th>cast2</th>\n",
       "      <td>Will Poulter</td>\n",
       "    </tr>\n",
       "    <tr>\n",
       "      <th>cast3</th>\n",
       "      <td>Domhnall Gleeson</td>\n",
       "    </tr>\n",
       "    <tr>\n",
       "      <th>cast4</th>\n",
       "      <td>Paul Anderson</td>\n",
       "    </tr>\n",
       "    <tr>\n",
       "      <th>...</th>\n",
       "      <th>...</th>\n",
       "      <td>...</td>\n",
       "    </tr>\n",
       "    <tr>\n",
       "      <th rowspan=\"5\" valign=\"top\">Watership Down</th>\n",
       "      <th>cast0</th>\n",
       "      <td>John Hurt</td>\n",
       "    </tr>\n",
       "    <tr>\n",
       "      <th>cast1</th>\n",
       "      <td>Richard Briers</td>\n",
       "    </tr>\n",
       "    <tr>\n",
       "      <th>cast2</th>\n",
       "      <td>Michael Graham Cox</td>\n",
       "    </tr>\n",
       "    <tr>\n",
       "      <th>cast3</th>\n",
       "      <td>John Bennett</td>\n",
       "    </tr>\n",
       "    <tr>\n",
       "      <th>cast4</th>\n",
       "      <td>Simon Cadell</td>\n",
       "    </tr>\n",
       "    <tr>\n",
       "      <th rowspan=\"5\" valign=\"top\">Who's Afraid of Virginia Woolf?</th>\n",
       "      <th>cast0</th>\n",
       "      <td>Elizabeth Taylor</td>\n",
       "    </tr>\n",
       "    <tr>\n",
       "      <th>cast1</th>\n",
       "      <td>Richard Burton</td>\n",
       "    </tr>\n",
       "    <tr>\n",
       "      <th>cast2</th>\n",
       "      <td>George Segal</td>\n",
       "    </tr>\n",
       "    <tr>\n",
       "      <th>cast3</th>\n",
       "      <td>Sandy Dennis</td>\n",
       "    </tr>\n",
       "    <tr>\n",
       "      <th>cast4</th>\n",
       "      <td>Agnes Flanagan</td>\n",
       "    </tr>\n",
       "    <tr>\n",
       "      <th rowspan=\"5\" valign=\"top\">Torn Curtain</th>\n",
       "      <th>cast0</th>\n",
       "      <td>Paul Newman</td>\n",
       "    </tr>\n",
       "    <tr>\n",
       "      <th>cast1</th>\n",
       "      <td>Julie Andrews</td>\n",
       "    </tr>\n",
       "    <tr>\n",
       "      <th>cast2</th>\n",
       "      <td>Lila Kedrova</td>\n",
       "    </tr>\n",
       "    <tr>\n",
       "      <th>cast3</th>\n",
       "      <td>HansjÃ¶rg Felmy</td>\n",
       "    </tr>\n",
       "    <tr>\n",
       "      <th>cast4</th>\n",
       "      <td>Tamara Toumanova</td>\n",
       "    </tr>\n",
       "    <tr>\n",
       "      <th rowspan=\"5\" valign=\"top\">El Dorado</th>\n",
       "      <th>cast0</th>\n",
       "      <td>John Wayne</td>\n",
       "    </tr>\n",
       "    <tr>\n",
       "      <th>cast1</th>\n",
       "      <td>Robert Mitchum</td>\n",
       "    </tr>\n",
       "    <tr>\n",
       "      <th>cast2</th>\n",
       "      <td>James Caan</td>\n",
       "    </tr>\n",
       "    <tr>\n",
       "      <th>cast3</th>\n",
       "      <td>Charlene Holt</td>\n",
       "    </tr>\n",
       "    <tr>\n",
       "      <th>cast4</th>\n",
       "      <td>Paul Fix</td>\n",
       "    </tr>\n",
       "    <tr>\n",
       "      <th rowspan=\"5\" valign=\"top\">The Sand Pebbles</th>\n",
       "      <th>cast0</th>\n",
       "      <td>Steve McQueen</td>\n",
       "    </tr>\n",
       "    <tr>\n",
       "      <th>cast1</th>\n",
       "      <td>Richard Attenborough</td>\n",
       "    </tr>\n",
       "    <tr>\n",
       "      <th>cast2</th>\n",
       "      <td>Richard Crenna</td>\n",
       "    </tr>\n",
       "    <tr>\n",
       "      <th>cast3</th>\n",
       "      <td>Candice Bergen</td>\n",
       "    </tr>\n",
       "    <tr>\n",
       "      <th>cast4</th>\n",
       "      <td>Emmanuelle Arsan</td>\n",
       "    </tr>\n",
       "    <tr>\n",
       "      <th rowspan=\"5\" valign=\"top\">Fantastic Voyage</th>\n",
       "      <th>cast0</th>\n",
       "      <td>Stephen Boyd</td>\n",
       "    </tr>\n",
       "    <tr>\n",
       "      <th>cast1</th>\n",
       "      <td>Raquel Welch</td>\n",
       "    </tr>\n",
       "    <tr>\n",
       "      <th>cast2</th>\n",
       "      <td>Edmond O'Brien</td>\n",
       "    </tr>\n",
       "    <tr>\n",
       "      <th>cast3</th>\n",
       "      <td>Donald Pleasence</td>\n",
       "    </tr>\n",
       "    <tr>\n",
       "      <th>cast4</th>\n",
       "      <td>Arthur O'Connell</td>\n",
       "    </tr>\n",
       "  </tbody>\n",
       "</table>\n",
       "<p>18979 rows × 1 columns</p>\n",
       "</div>"
      ],
      "text/plain": [
       "                                                          0\n",
       "original_title                                             \n",
       "Jurassic World                  cast0           Chris Pratt\n",
       "                                cast1   Bryce Dallas Howard\n",
       "                                cast2           Irrfan Khan\n",
       "                                cast3     Vincent D'Onofrio\n",
       "                                cast4         Nick Robinson\n",
       "Mad Max: Fury Road              cast0             Tom Hardy\n",
       "                                cast1       Charlize Theron\n",
       "                                cast2      Hugh Keays-Byrne\n",
       "                                cast3        Nicholas Hoult\n",
       "                                cast4           Josh Helman\n",
       "Insurgent                       cast0      Shailene Woodley\n",
       "                                cast1            Theo James\n",
       "                                cast2          Kate Winslet\n",
       "                                cast3          Ansel Elgort\n",
       "                                cast4          Miles Teller\n",
       "Star Wars: The Force Awakens    cast0         Harrison Ford\n",
       "                                cast1           Mark Hamill\n",
       "                                cast2         Carrie Fisher\n",
       "                                cast3           Adam Driver\n",
       "                                cast4          Daisy Ridley\n",
       "Furious 7                       cast0            Vin Diesel\n",
       "                                cast1           Paul Walker\n",
       "                                cast2         Jason Statham\n",
       "                                cast3    Michelle Rodriguez\n",
       "                                cast4        Dwayne Johnson\n",
       "The Revenant                    cast0     Leonardo DiCaprio\n",
       "                                cast1             Tom Hardy\n",
       "                                cast2          Will Poulter\n",
       "                                cast3      Domhnall Gleeson\n",
       "                                cast4         Paul Anderson\n",
       "...                                                     ...\n",
       "Watership Down                  cast0             John Hurt\n",
       "                                cast1        Richard Briers\n",
       "                                cast2    Michael Graham Cox\n",
       "                                cast3          John Bennett\n",
       "                                cast4          Simon Cadell\n",
       "Who's Afraid of Virginia Woolf? cast0      Elizabeth Taylor\n",
       "                                cast1        Richard Burton\n",
       "                                cast2          George Segal\n",
       "                                cast3          Sandy Dennis\n",
       "                                cast4        Agnes Flanagan\n",
       "Torn Curtain                    cast0           Paul Newman\n",
       "                                cast1         Julie Andrews\n",
       "                                cast2          Lila Kedrova\n",
       "                                cast3       HansjÃ¶rg Felmy\n",
       "                                cast4      Tamara Toumanova\n",
       "El Dorado                       cast0            John Wayne\n",
       "                                cast1        Robert Mitchum\n",
       "                                cast2            James Caan\n",
       "                                cast3         Charlene Holt\n",
       "                                cast4              Paul Fix\n",
       "The Sand Pebbles                cast0         Steve McQueen\n",
       "                                cast1  Richard Attenborough\n",
       "                                cast2        Richard Crenna\n",
       "                                cast3        Candice Bergen\n",
       "                                cast4      Emmanuelle Arsan\n",
       "Fantastic Voyage                cast0          Stephen Boyd\n",
       "                                cast1          Raquel Welch\n",
       "                                cast2        Edmond O'Brien\n",
       "                                cast3      Donald Pleasence\n",
       "                                cast4      Arthur O'Connell\n",
       "\n",
       "[18979 rows x 1 columns]"
      ]
     },
     "execution_count": 19,
     "metadata": {},
     "output_type": "execute_result"
    }
   ],
   "source": [
    "# Fast look\n",
    "a"
   ]
  },
  {
   "cell_type": "code",
   "execution_count": 20,
   "metadata": {
    "slideshow": {
     "slide_type": "skip"
    }
   },
   "outputs": [
    {
     "data": {
      "text/plain": [
       "Robert De Niro    52\n",
       "Name: 0, dtype: int64"
      ]
     },
     "execution_count": 20,
     "metadata": {},
     "output_type": "execute_result"
    }
   ],
   "source": [
    "# The answer:\n",
    "b[0].value_counts().sort_values(ascending=False).head(1)"
   ]
  },
  {
   "cell_type": "code",
   "execution_count": 21,
   "metadata": {
    "slideshow": {
     "slide_type": "skip"
    }
   },
   "outputs": [
    {
     "data": {
      "text/plain": [
       "Robert De Niro           52\n",
       "Bruce Willis             46\n",
       "Samuel L. Jackson        44\n",
       "Nicolas Cage             43\n",
       "Matt Damon               36\n",
       "Johnny Depp              35\n",
       "Morgan Freeman           34\n",
       "Brad Pitt                34\n",
       "Tom Hanks                34\n",
       "Harrison Ford            34\n",
       "Sylvester Stallone       34\n",
       "Tom Cruise               33\n",
       "Eddie Murphy             32\n",
       "Denzel Washington        32\n",
       "Liam Neeson              31\n",
       "Julianne Moore           30\n",
       "Owen Wilson              30\n",
       "Arnold Schwarzenegger    29\n",
       "Robin Williams           29\n",
       "Meryl Streep             29\n",
       "Name: 0, dtype: int64"
      ]
     },
     "execution_count": 21,
     "metadata": {},
     "output_type": "execute_result"
    }
   ],
   "source": [
    "# The top 20:\n",
    "T_act = b[0].value_counts().sort_values(ascending=False).head(20)\n",
    "T_act"
   ]
  },
  {
   "cell_type": "code",
   "execution_count": 22,
   "metadata": {
    "slideshow": {
     "slide_type": "subslide"
    }
   },
   "outputs": [
    {
     "data": {
      "text/plain": [
       "Text(0,0.5,'Number of movies')"
      ]
     },
     "execution_count": 22,
     "metadata": {},
     "output_type": "execute_result"
    },
    {
     "data": {
      "image/png": "[encoded data removed]",
      "text/plain": [
       "<matplotlib.figure.Figure at 0x7f0a41dfc9e8>"
      ]
     },
     "metadata": {
      "needs_background": "light"
     },
     "output_type": "display_data"
    }
   ],
   "source": [
    "# visualization to the top 20 actors using Bar Charts:\n",
    "\n",
    "T_act.plot(kind=\"bar\")\n",
    "plt.title(\"the top actors\")\n",
    "plt.xlabel(\"Actor Name\")\n",
    "plt.ylabel(\"Number of movies\")"
   ]
  },
  {
   "cell_type": "markdown",
   "metadata": {
    "slideshow": {
     "slide_type": "slide"
    }
   },
   "source": [
    "It's concluded that the No. of the first four actors' movies are relatively higher than the rest."
   ]
  },
  {
   "cell_type": "markdown",
   "metadata": {
    "slideshow": {
     "slide_type": "slide"
    }
   },
   "source": [
    "### Q2 Who is the director with most movies?\n"
   ]
  },
  {
   "cell_type": "code",
   "execution_count": 23,
   "metadata": {
    "slideshow": {
     "slide_type": "skip"
    }
   },
   "outputs": [],
   "source": [
    "# Apply combine Function.\n",
    "\n",
    "a,b = comp( df_n , ['director'] , 'original_title')"
   ]
  },
  {
   "cell_type": "code",
   "execution_count": 24,
   "metadata": {
    "slideshow": {
     "slide_type": "skip"
    }
   },
   "outputs": [
    {
     "data": {
      "text/html": [
       "<div>\n",
       "<style scoped>\n",
       "    .dataframe tbody tr th:only-of-type {\n",
       "        vertical-align: middle;\n",
       "    }\n",
       "\n",
       "    .dataframe tbody tr th {\n",
       "        vertical-align: top;\n",
       "    }\n",
       "\n",
       "    .dataframe thead th {\n",
       "        text-align: right;\n",
       "    }\n",
       "</style>\n",
       "<table border=\"1\" class=\"dataframe\">\n",
       "  <thead>\n",
       "    <tr style=\"text-align: right;\">\n",
       "      <th></th>\n",
       "      <th></th>\n",
       "      <th>0</th>\n",
       "    </tr>\n",
       "    <tr>\n",
       "      <th>original_title</th>\n",
       "      <th></th>\n",
       "      <th></th>\n",
       "    </tr>\n",
       "  </thead>\n",
       "  <tbody>\n",
       "    <tr>\n",
       "      <th>Jurassic World</th>\n",
       "      <th>director</th>\n",
       "      <td>Colin Trevorrow</td>\n",
       "    </tr>\n",
       "    <tr>\n",
       "      <th>Mad Max: Fury Road</th>\n",
       "      <th>director</th>\n",
       "      <td>George Miller</td>\n",
       "    </tr>\n",
       "    <tr>\n",
       "      <th>Insurgent</th>\n",
       "      <th>director</th>\n",
       "      <td>Robert Schwentke</td>\n",
       "    </tr>\n",
       "    <tr>\n",
       "      <th>Star Wars: The Force Awakens</th>\n",
       "      <th>director</th>\n",
       "      <td>J.J. Abrams</td>\n",
       "    </tr>\n",
       "    <tr>\n",
       "      <th>Furious 7</th>\n",
       "      <th>director</th>\n",
       "      <td>James Wan</td>\n",
       "    </tr>\n",
       "    <tr>\n",
       "      <th>The Revenant</th>\n",
       "      <th>director</th>\n",
       "      <td>Alejandro GonzÃ¡lez IÃ±Ã¡rritu</td>\n",
       "    </tr>\n",
       "    <tr>\n",
       "      <th>Terminator Genisys</th>\n",
       "      <th>director</th>\n",
       "      <td>Alan Taylor</td>\n",
       "    </tr>\n",
       "    <tr>\n",
       "      <th>The Martian</th>\n",
       "      <th>director</th>\n",
       "      <td>Ridley Scott</td>\n",
       "    </tr>\n",
       "    <tr>\n",
       "      <th>Minions</th>\n",
       "      <th>director</th>\n",
       "      <td>Kyle Balda|Pierre Coffin</td>\n",
       "    </tr>\n",
       "    <tr>\n",
       "      <th>Inside Out</th>\n",
       "      <th>director</th>\n",
       "      <td>Pete Docter</td>\n",
       "    </tr>\n",
       "    <tr>\n",
       "      <th>Spectre</th>\n",
       "      <th>director</th>\n",
       "      <td>Sam Mendes</td>\n",
       "    </tr>\n",
       "    <tr>\n",
       "      <th>Jupiter Ascending</th>\n",
       "      <th>director</th>\n",
       "      <td>Lana Wachowski|Lilly Wachowski</td>\n",
       "    </tr>\n",
       "    <tr>\n",
       "      <th>Ex Machina</th>\n",
       "      <th>director</th>\n",
       "      <td>Alex Garland</td>\n",
       "    </tr>\n",
       "    <tr>\n",
       "      <th>Pixels</th>\n",
       "      <th>director</th>\n",
       "      <td>Chris Columbus</td>\n",
       "    </tr>\n",
       "    <tr>\n",
       "      <th>Avengers: Age of Ultron</th>\n",
       "      <th>director</th>\n",
       "      <td>Joss Whedon</td>\n",
       "    </tr>\n",
       "    <tr>\n",
       "      <th>The Hateful Eight</th>\n",
       "      <th>director</th>\n",
       "      <td>Quentin Tarantino</td>\n",
       "    </tr>\n",
       "    <tr>\n",
       "      <th>Taken 3</th>\n",
       "      <th>director</th>\n",
       "      <td>Olivier Megaton</td>\n",
       "    </tr>\n",
       "    <tr>\n",
       "      <th>Ant-Man</th>\n",
       "      <th>director</th>\n",
       "      <td>Peyton Reed</td>\n",
       "    </tr>\n",
       "    <tr>\n",
       "      <th>Cinderella</th>\n",
       "      <th>director</th>\n",
       "      <td>Kenneth Branagh</td>\n",
       "    </tr>\n",
       "    <tr>\n",
       "      <th>The Hunger Games: Mockingjay - Part 2</th>\n",
       "      <th>director</th>\n",
       "      <td>Francis Lawrence</td>\n",
       "    </tr>\n",
       "    <tr>\n",
       "      <th>Tomorrowland</th>\n",
       "      <th>director</th>\n",
       "      <td>Brad Bird</td>\n",
       "    </tr>\n",
       "    <tr>\n",
       "      <th>Southpaw</th>\n",
       "      <th>director</th>\n",
       "      <td>Antoine Fuqua</td>\n",
       "    </tr>\n",
       "    <tr>\n",
       "      <th>San Andreas</th>\n",
       "      <th>director</th>\n",
       "      <td>Brad Peyton</td>\n",
       "    </tr>\n",
       "    <tr>\n",
       "      <th>Fifty Shades of Grey</th>\n",
       "      <th>director</th>\n",
       "      <td>Sam Taylor-Johnson</td>\n",
       "    </tr>\n",
       "    <tr>\n",
       "      <th>The Big Short</th>\n",
       "      <th>director</th>\n",
       "      <td>Adam McKay</td>\n",
       "    </tr>\n",
       "    <tr>\n",
       "      <th>Mission: Impossible - Rogue Nation</th>\n",
       "      <th>director</th>\n",
       "      <td>Christopher McQuarrie</td>\n",
       "    </tr>\n",
       "    <tr>\n",
       "      <th>Ted 2</th>\n",
       "      <th>director</th>\n",
       "      <td>Seth MacFarlane</td>\n",
       "    </tr>\n",
       "    <tr>\n",
       "      <th>Kingsman: The Secret Service</th>\n",
       "      <th>director</th>\n",
       "      <td>Matthew Vaughn</td>\n",
       "    </tr>\n",
       "    <tr>\n",
       "      <th>Spotlight</th>\n",
       "      <th>director</th>\n",
       "      <td>Tom McCarthy</td>\n",
       "    </tr>\n",
       "    <tr>\n",
       "      <th>Maze Runner: The Scorch Trials</th>\n",
       "      <th>director</th>\n",
       "      <td>Wes Ball</td>\n",
       "    </tr>\n",
       "    <tr>\n",
       "      <th>...</th>\n",
       "      <th>...</th>\n",
       "      <td>...</td>\n",
       "    </tr>\n",
       "    <tr>\n",
       "      <th>The Sound of Music</th>\n",
       "      <th>director</th>\n",
       "      <td>Robert Wise</td>\n",
       "    </tr>\n",
       "    <tr>\n",
       "      <th>Doctor Zhivago</th>\n",
       "      <th>director</th>\n",
       "      <td>David Lean</td>\n",
       "    </tr>\n",
       "    <tr>\n",
       "      <th>Those Magnificent Men in Their Flying Machines or How I Flew from London to Paris in 25 hours 11 minutes</th>\n",
       "      <th>director</th>\n",
       "      <td>Ken Annakin</td>\n",
       "    </tr>\n",
       "    <tr>\n",
       "      <th>The Greatest Story Ever Told</th>\n",
       "      <th>director</th>\n",
       "      <td>George Stevens</td>\n",
       "    </tr>\n",
       "    <tr>\n",
       "      <th>On Her Majesty's Secret Service</th>\n",
       "      <th>director</th>\n",
       "      <td>Peter R. Hunt</td>\n",
       "    </tr>\n",
       "    <tr>\n",
       "      <th>Butch Cassidy and the Sundance Kid</th>\n",
       "      <th>director</th>\n",
       "      <td>George Roy Hill</td>\n",
       "    </tr>\n",
       "    <tr>\n",
       "      <th>Midnight Cowboy</th>\n",
       "      <th>director</th>\n",
       "      <td>John Schlesinger</td>\n",
       "    </tr>\n",
       "    <tr>\n",
       "      <th>The Wild Bunch</th>\n",
       "      <th>director</th>\n",
       "      <td>Sam Peckinpah</td>\n",
       "    </tr>\n",
       "    <tr>\n",
       "      <th>Grease</th>\n",
       "      <th>director</th>\n",
       "      <td>Randal Kleiser</td>\n",
       "    </tr>\n",
       "    <tr>\n",
       "      <th>Jaws 2</th>\n",
       "      <th>director</th>\n",
       "      <td>Jeannot Szwarc</td>\n",
       "    </tr>\n",
       "    <tr>\n",
       "      <th>Dawn of the Dead</th>\n",
       "      <th>director</th>\n",
       "      <td>George A. Romero</td>\n",
       "    </tr>\n",
       "    <tr>\n",
       "      <th>Superman</th>\n",
       "      <th>director</th>\n",
       "      <td>Richard Donner</td>\n",
       "    </tr>\n",
       "    <tr>\n",
       "      <th>Halloween</th>\n",
       "      <th>director</th>\n",
       "      <td>John Carpenter</td>\n",
       "    </tr>\n",
       "    <tr>\n",
       "      <th>Animal House</th>\n",
       "      <th>director</th>\n",
       "      <td>John Landis</td>\n",
       "    </tr>\n",
       "    <tr>\n",
       "      <th>The Deer Hunter</th>\n",
       "      <th>director</th>\n",
       "      <td>Michael Cimino</td>\n",
       "    </tr>\n",
       "    <tr>\n",
       "      <th>Midnight Express</th>\n",
       "      <th>director</th>\n",
       "      <td>Alan Parker</td>\n",
       "    </tr>\n",
       "    <tr>\n",
       "      <th>The Lord of the Rings</th>\n",
       "      <th>director</th>\n",
       "      <td>Ralph Bakshi</td>\n",
       "    </tr>\n",
       "    <tr>\n",
       "      <th>Death on the Nile</th>\n",
       "      <th>director</th>\n",
       "      <td>John Guillermin</td>\n",
       "    </tr>\n",
       "    <tr>\n",
       "      <th>F.I.S.T.</th>\n",
       "      <th>director</th>\n",
       "      <td>Norman Jewison</td>\n",
       "    </tr>\n",
       "    <tr>\n",
       "      <th>Force 10 from Navarone</th>\n",
       "      <th>director</th>\n",
       "      <td>Guy Hamilton</td>\n",
       "    </tr>\n",
       "    <tr>\n",
       "      <th>Convoy</th>\n",
       "      <th>director</th>\n",
       "      <td>Sam Peckinpah</td>\n",
       "    </tr>\n",
       "    <tr>\n",
       "      <th>Invasion of the Body Snatchers</th>\n",
       "      <th>director</th>\n",
       "      <td>Philip Kaufman</td>\n",
       "    </tr>\n",
       "    <tr>\n",
       "      <th>The Wiz</th>\n",
       "      <th>director</th>\n",
       "      <td>Sidney Lumet</td>\n",
       "    </tr>\n",
       "    <tr>\n",
       "      <th>Damien: Omen II</th>\n",
       "      <th>director</th>\n",
       "      <td>Don Taylor|Mike Hodges</td>\n",
       "    </tr>\n",
       "    <tr>\n",
       "      <th>Watership Down</th>\n",
       "      <th>director</th>\n",
       "      <td>Martin Rosen</td>\n",
       "    </tr>\n",
       "    <tr>\n",
       "      <th>Who's Afraid of Virginia Woolf?</th>\n",
       "      <th>director</th>\n",
       "      <td>Mike Nichols</td>\n",
       "    </tr>\n",
       "    <tr>\n",
       "      <th>Torn Curtain</th>\n",
       "      <th>director</th>\n",
       "      <td>Alfred Hitchcock</td>\n",
       "    </tr>\n",
       "    <tr>\n",
       "      <th>El Dorado</th>\n",
       "      <th>director</th>\n",
       "      <td>Howard Hawks</td>\n",
       "    </tr>\n",
       "    <tr>\n",
       "      <th>The Sand Pebbles</th>\n",
       "      <th>director</th>\n",
       "      <td>Robert Wise</td>\n",
       "    </tr>\n",
       "    <tr>\n",
       "      <th>Fantastic Voyage</th>\n",
       "      <th>director</th>\n",
       "      <td>Richard Fleischer</td>\n",
       "    </tr>\n",
       "  </tbody>\n",
       "</table>\n",
       "<p>3805 rows × 1 columns</p>\n",
       "</div>"
      ],
      "text/plain": [
       "                                                                                          0\n",
       "original_title                                                                             \n",
       "Jurassic World                                     director                 Colin Trevorrow\n",
       "Mad Max: Fury Road                                 director                   George Miller\n",
       "Insurgent                                          director                Robert Schwentke\n",
       "Star Wars: The Force Awakens                       director                     J.J. Abrams\n",
       "Furious 7                                          director                       James Wan\n",
       "The Revenant                                       director  Alejandro GonzÃ¡lez IÃ±Ã¡rritu\n",
       "Terminator Genisys                                 director                     Alan Taylor\n",
       "The Martian                                        director                    Ridley Scott\n",
       "Minions                                            director        Kyle Balda|Pierre Coffin\n",
       "Inside Out                                         director                     Pete Docter\n",
       "Spectre                                            director                      Sam Mendes\n",
       "Jupiter Ascending                                  director  Lana Wachowski|Lilly Wachowski\n",
       "Ex Machina                                         director                    Alex Garland\n",
       "Pixels                                             director                  Chris Columbus\n",
       "Avengers: Age of Ultron                            director                     Joss Whedon\n",
       "The Hateful Eight                                  director               Quentin Tarantino\n",
       "Taken 3                                            director                 Olivier Megaton\n",
       "Ant-Man                                            director                     Peyton Reed\n",
       "Cinderella                                         director                 Kenneth Branagh\n",
       "The Hunger Games: Mockingjay - Part 2              director                Francis Lawrence\n",
       "Tomorrowland                                       director                       Brad Bird\n",
       "Southpaw                                           director                   Antoine Fuqua\n",
       "San Andreas                                        director                     Brad Peyton\n",
       "Fifty Shades of Grey                               director              Sam Taylor-Johnson\n",
       "The Big Short                                      director                      Adam McKay\n",
       "Mission: Impossible - Rogue Nation                 director           Christopher McQuarrie\n",
       "Ted 2                                              director                 Seth MacFarlane\n",
       "Kingsman: The Secret Service                       director                  Matthew Vaughn\n",
       "Spotlight                                          director                    Tom McCarthy\n",
       "Maze Runner: The Scorch Trials                     director                        Wes Ball\n",
       "...                                                                                     ...\n",
       "The Sound of Music                                 director                     Robert Wise\n",
       "Doctor Zhivago                                     director                      David Lean\n",
       "Those Magnificent Men in Their Flying Machines ... director                     Ken Annakin\n",
       "The Greatest Story Ever Told                       director                  George Stevens\n",
       "On Her Majesty's Secret Service                    director                   Peter R. Hunt\n",
       "Butch Cassidy and the Sundance Kid                 director                 George Roy Hill\n",
       "Midnight Cowboy                                    director                John Schlesinger\n",
       "The Wild Bunch                                     director                   Sam Peckinpah\n",
       "Grease                                             director                  Randal Kleiser\n",
       "Jaws 2                                             director                  Jeannot Szwarc\n",
       "Dawn of the Dead                                   director                George A. Romero\n",
       "Superman                                           director                  Richard Donner\n",
       "Halloween                                          director                  John Carpenter\n",
       "Animal House                                       director                     John Landis\n",
       "The Deer Hunter                                    director                  Michael Cimino\n",
       "Midnight Express                                   director                     Alan Parker\n",
       "The Lord of the Rings                              director                    Ralph Bakshi\n",
       "Death on the Nile                                  director                 John Guillermin\n",
       "F.I.S.T.                                           director                  Norman Jewison\n",
       "Force 10 from Navarone                             director                    Guy Hamilton\n",
       "Convoy                                             director                   Sam Peckinpah\n",
       "Invasion of the Body Snatchers                     director                  Philip Kaufman\n",
       "The Wiz                                            director                    Sidney Lumet\n",
       "Damien: Omen II                                    director          Don Taylor|Mike Hodges\n",
       "Watership Down                                     director                    Martin Rosen\n",
       "Who's Afraid of Virginia Woolf?                    director                    Mike Nichols\n",
       "Torn Curtain                                       director                Alfred Hitchcock\n",
       "El Dorado                                          director                    Howard Hawks\n",
       "The Sand Pebbles                                   director                     Robert Wise\n",
       "Fantastic Voyage                                   director               Richard Fleischer\n",
       "\n",
       "[3805 rows x 1 columns]"
      ]
     },
     "execution_count": 24,
     "metadata": {},
     "output_type": "execute_result"
    }
   ],
   "source": [
    "# Fast look\n",
    "a"
   ]
  },
  {
   "cell_type": "code",
   "execution_count": 25,
   "metadata": {
    "slideshow": {
     "slide_type": "skip"
    }
   },
   "outputs": [
    {
     "data": {
      "text/plain": [
       "Steven Spielberg    27\n",
       "Name: director, dtype: int64"
      ]
     },
     "execution_count": 25,
     "metadata": {},
     "output_type": "execute_result"
    }
   ],
   "source": [
    "# The answer:\n",
    "b.iloc[:,0].value_counts().sort_values(ascending=False).head(1)"
   ]
  },
  {
   "cell_type": "code",
   "execution_count": 26,
   "metadata": {
    "slideshow": {
     "slide_type": "skip"
    }
   },
   "outputs": [
    {
     "data": {
      "text/plain": [
       "Steven Spielberg        27\n",
       "Clint Eastwood          24\n",
       "Ridley Scott            21\n",
       "Woody Allen             18\n",
       "Martin Scorsese         17\n",
       "Steven Soderbergh       17\n",
       "Tim Burton              16\n",
       "Oliver Stone            15\n",
       "Renny Harlin            15\n",
       "Brian De Palma          15\n",
       "Robert Zemeckis         15\n",
       "Wes Craven              14\n",
       "Joel Schumacher         14\n",
       "Tony Scott              14\n",
       "Ron Howard              14\n",
       "Francis Ford Coppola    13\n",
       "Richard Donner          13\n",
       "Robert Rodriguez        12\n",
       "Barry Levinson          12\n",
       "Rob Reiner              12\n",
       "Name: director, dtype: int64"
      ]
     },
     "execution_count": 26,
     "metadata": {},
     "output_type": "execute_result"
    }
   ],
   "source": [
    "# The top 20:\n",
    "T_act = b.iloc[:,0].value_counts().sort_values(ascending=False).head(20)\n",
    "T_act"
   ]
  },
  {
   "cell_type": "code",
   "execution_count": 27,
   "metadata": {
    "slideshow": {
     "slide_type": "subslide"
    }
   },
   "outputs": [
    {
     "data": {
      "text/plain": [
       "Text(0,0.5,'Number of movies')"
      ]
     },
     "execution_count": 27,
     "metadata": {},
     "output_type": "execute_result"
    },
    {
     "data": {
      "image/png": "[encoded data removed]",
      "text/plain": [
       "<matplotlib.figure.Figure at 0x7f0a422bb128>"
      ]
     },
     "metadata": {
      "needs_background": "light"
     },
     "output_type": "display_data"
    }
   ],
   "source": [
    "# visualization to the top 20 directors using Bar Charts:\n",
    "\n",
    "T_act.plot(kind=\"bar\")\n",
    "plt.title(\"the top directors\")\n",
    "plt.xlabel(\"Director Name\")\n",
    "plt.ylabel(\"Number of movies\")"
   ]
  },
  {
   "cell_type": "markdown",
   "metadata": {
    "slideshow": {
     "slide_type": "slide"
    }
   },
   "source": [
    "It's concluded that the No. of the first three directors' movies are relatively higher than the rest."
   ]
  },
  {
   "cell_type": "markdown",
   "metadata": {
    "slideshow": {
     "slide_type": "slide"
    }
   },
   "source": [
    "### Q3 Who is the actor that makes the most money?\n"
   ]
  },
  {
   "cell_type": "code",
   "execution_count": 28,
   "metadata": {
    "slideshow": {
     "slide_type": "skip"
    }
   },
   "outputs": [],
   "source": [
    "# Apply combine Function to combine multiple columns into different shapes.\n",
    "\n",
    "a,b = comp( df_n , ['cast0', 'cast1', 'cast2', 'cast3', 'cast4'] , 'revenue_adj')"
   ]
  },
  {
   "cell_type": "code",
   "execution_count": 29,
   "metadata": {
    "slideshow": {
     "slide_type": "skip"
    }
   },
   "outputs": [
    {
     "data": {
      "text/plain": [
       "Actors\n",
       "Harrison Ford                1.428570e+10\n",
       "Tom Cruise                   1.117507e+10\n",
       "Tom Hanks                    1.043351e+10\n",
       "Emma Watson                  8.790080e+09\n",
       "Ian McKellen                 8.628837e+09\n",
       "Johnny Depp                  8.518033e+09\n",
       "Daniel Radcliffe             8.515082e+09\n",
       "Eddie Murphy                 8.403307e+09\n",
       "Rupert Grint                 8.358341e+09\n",
       "Bruce Willis                 8.236476e+09\n",
       "Samuel L. Jackson            7.948471e+09\n",
       "Cameron Diaz                 7.836254e+09\n",
       "Will Smith                   7.775643e+09\n",
       "Carrie Fisher                7.678282e+09\n",
       "Ralph Fiennes                7.591763e+09\n",
       "Brad Pitt                    7.546207e+09\n",
       "Orlando Bloom                7.467078e+09\n",
       "Sean Connery                 7.407260e+09\n",
       "Mark Hamill                  7.379360e+09\n",
       "Leonardo DiCaprio            7.226350e+09\n",
       "Gary Oldman                  7.116634e+09\n",
       "Robert Downey Jr.            7.051118e+09\n",
       "Robin Williams               6.963477e+09\n",
       "Sandra Bullock               6.913063e+09\n",
       "Sylvester Stallone           6.807269e+09\n",
       "Ben Stiller                  6.694215e+09\n",
       "Arnold Schwarzenegger        6.572779e+09\n",
       "Robert De Niro               6.474663e+09\n",
       "Dustin Hoffman               6.373330e+09\n",
       "Liam Neeson                  5.996106e+09\n",
       "                                 ...     \n",
       "James Rolleston              4.300000e+01\n",
       "Te Aho Aho Eketone-Whitu     4.300000e+01\n",
       "Taika Waititi                4.300000e+01\n",
       "Kathy Ireland                4.075569e+01\n",
       "J. D. Cannon                 3.615428e+01\n",
       "Robin Sherwood               3.615428e+01\n",
       "Dolly Parton                 2.849233e+01\n",
       "Heather Litteer              2.726311e+01\n",
       "David Johansen               2.670238e+01\n",
       "John D. LeMay                2.264205e+01\n",
       "Kari Keegan                  2.264205e+01\n",
       "Ciaran Owens                 1.701769e+01\n",
       "Michael Legge                1.701769e+01\n",
       "Joe Breen                    1.701769e+01\n",
       "Wings Hauser                 1.574064e+01\n",
       "Duane Whitaker               1.574064e+01\n",
       "Tony Jayawardena             1.385334e+01\n",
       "Stark Sands                  1.385334e+01\n",
       "Ingvar Eggert SigurÃ°sson    1.029637e+01\n",
       "Helgi BjÃ¶rnsson             1.029637e+01\n",
       "Charlotte BÃ¸ving            1.029637e+01\n",
       "KristbjÃ¶rg Kjeld            1.029637e+01\n",
       "Steinn Ãrmann MagnÃºsson     1.029637e+01\n",
       "Martha Burns                 8.585801e+00\n",
       "Angie Everhart               6.951084e+00\n",
       "Clayton Watson               5.926763e+00\n",
       "John Demita                  5.926763e+00\n",
       "Kevin Michael Richardson     5.926763e+00\n",
       "Jeremy London                2.861934e+00\n",
       "Shannen Doherty              2.861934e+00\n",
       "Name: revenue_adj, Length: 6747, dtype: float64"
      ]
     },
     "execution_count": 29,
     "metadata": {},
     "output_type": "execute_result"
    }
   ],
   "source": [
    "# Fast look\n",
    "\n",
    "b.columns =['Actors']\n",
    "b=b.reset_index()\n",
    "l=b.groupby(by='Actors').sum()\n",
    "l.iloc[:,0].sort_values(ascending=False)"
   ]
  },
  {
   "cell_type": "code",
   "execution_count": 30,
   "metadata": {
    "slideshow": {
     "slide_type": "skip"
    }
   },
   "outputs": [
    {
     "data": {
      "text/plain": [
       "Actors\n",
       "Harrison Ford    1.428570e+10\n",
       "Name: revenue_adj, dtype: float64"
      ]
     },
     "execution_count": 30,
     "metadata": {},
     "output_type": "execute_result"
    }
   ],
   "source": [
    "# The answer:\n",
    "l.iloc[:,0].sort_values(ascending=False).head(1)"
   ]
  },
  {
   "cell_type": "code",
   "execution_count": 31,
   "metadata": {
    "slideshow": {
     "slide_type": "skip"
    }
   },
   "outputs": [
    {
     "data": {
      "text/plain": [
       "Actors\n",
       "Harrison Ford        1.428570e+10\n",
       "Tom Cruise           1.117507e+10\n",
       "Tom Hanks            1.043351e+10\n",
       "Emma Watson          8.790080e+09\n",
       "Ian McKellen         8.628837e+09\n",
       "Johnny Depp          8.518033e+09\n",
       "Daniel Radcliffe     8.515082e+09\n",
       "Eddie Murphy         8.403307e+09\n",
       "Rupert Grint         8.358341e+09\n",
       "Bruce Willis         8.236476e+09\n",
       "Samuel L. Jackson    7.948471e+09\n",
       "Cameron Diaz         7.836254e+09\n",
       "Will Smith           7.775643e+09\n",
       "Carrie Fisher        7.678282e+09\n",
       "Ralph Fiennes        7.591763e+09\n",
       "Brad Pitt            7.546207e+09\n",
       "Orlando Bloom        7.467078e+09\n",
       "Sean Connery         7.407260e+09\n",
       "Mark Hamill          7.379360e+09\n",
       "Leonardo DiCaprio    7.226350e+09\n",
       "Name: revenue_adj, dtype: float64"
      ]
     },
     "execution_count": 31,
     "metadata": {},
     "output_type": "execute_result"
    }
   ],
   "source": [
    "# The top 20:\n",
    "T_act = l.iloc[:,0].sort_values(ascending=False).head(20)\n",
    "T_act"
   ]
  },
  {
   "cell_type": "code",
   "execution_count": 32,
   "metadata": {
    "scrolled": true,
    "slideshow": {
     "slide_type": "subslide"
    }
   },
   "outputs": [
    {
     "data": {
      "text/plain": [
       "Text(0,0.5,'Revenue')"
      ]
     },
     "execution_count": 32,
     "metadata": {},
     "output_type": "execute_result"
    },
    {
     "data": {
      "image/png": "[encoded data removed]",
      "text/plain": [
       "<matplotlib.figure.Figure at 0x7f0a41398c18>"
      ]
     },
     "metadata": {
      "needs_background": "light"
     },
     "output_type": "display_data"
    }
   ],
   "source": [
    "# visualization to the top 20 actors using Bar Charts:\n",
    "\n",
    "T_act.plot(kind=\"bar\")\n",
    "plt.title(\"the top actors\")\n",
    "plt.xlabel(\"Actor Name\")\n",
    "plt.ylabel(\"Revenue\")"
   ]
  },
  {
   "cell_type": "markdown",
   "metadata": {
    "slideshow": {
     "slide_type": "slide"
    }
   },
   "source": [
    "We can see that there is a huge difference between the first actor compared to the rest of the actors: The first actor earns a lot more than the other actors."
   ]
  },
  {
   "cell_type": "markdown",
   "metadata": {
    "slideshow": {
     "slide_type": "slide"
    }
   },
   "source": [
    "### Q4 Who is the director that makes the most money?\n"
   ]
  },
  {
   "cell_type": "code",
   "execution_count": 33,
   "metadata": {
    "slideshow": {
     "slide_type": "skip"
    }
   },
   "outputs": [],
   "source": [
    "# Apply combine Function.\n",
    "\n",
    "a,b = comp( df_n ,  ['director'] , 'revenue_adj')"
   ]
  },
  {
   "cell_type": "code",
   "execution_count": 34,
   "metadata": {
    "slideshow": {
     "slide_type": "skip"
    }
   },
   "outputs": [
    {
     "data": {
      "text/plain": [
       "Director\n",
       "Steven Spielberg                1.520245e+10\n",
       "James Cameron                   7.327221e+09\n",
       "Peter Jackson                   7.019848e+09\n",
       "George Lucas                    6.313919e+09\n",
       "Robert Zemeckis                 5.655648e+09\n",
       "Michael Bay                     5.460672e+09\n",
       "Chris Columbus                  4.893486e+09\n",
       "Tim Burton                      4.529285e+09\n",
       "David Yates                     4.177455e+09\n",
       "Christopher Nolan               4.164262e+09\n",
       "Ridley Scott                    4.141848e+09\n",
       "Roland Emmerich                 4.076981e+09\n",
       "Ron Howard                      4.011669e+09\n",
       "Gore Verbinski                  3.926130e+09\n",
       "Sam Raimi                       3.595782e+09\n",
       "Clint Eastwood                  3.518207e+09\n",
       "J.J. Abrams                     3.414677e+09\n",
       "Richard Donner                  3.242881e+09\n",
       "Tony Scott                      3.117253e+09\n",
       "Francis Lawrence                3.067993e+09\n",
       "M. Night Shyamalan              2.834729e+09\n",
       "Barry Sonnenfeld                2.812794e+09\n",
       "Joss Whedon                     2.779224e+09\n",
       "Guy Hamilton                    2.752939e+09\n",
       "Sam Mendes                      2.748417e+09\n",
       "Francis Ford Coppola            2.664669e+09\n",
       "William Friedkin                2.589000e+09\n",
       "Carlos Saldanha                 2.546672e+09\n",
       "Ivan Reitman                    2.504342e+09\n",
       "Steven Soderbergh               2.475274e+09\n",
       "                                    ...     \n",
       "Hal Haberman|Jeremy Passmore    7.790181e+03\n",
       "Anders Anderson                 7.425822e+03\n",
       "Jonathan Newman                 5.989677e+03\n",
       "Logan Miller                    5.753797e+03\n",
       "Gillian Armstrong               3.744992e+03\n",
       " FrÃ©dÃ©ric Jardin              3.255239e+03\n",
       "David Brooks                    2.858730e+03\n",
       "Stephen Elliott                 2.852082e+03\n",
       "David Weaver                    2.394305e+03\n",
       "Ted Koland                      1.840604e+03\n",
       "Dermot Mulroney                 1.335831e+03\n",
       "Aaron Blaise|Robert Walker      2.963382e+02\n",
       "Phil Alden Robinson             2.339664e+02\n",
       "Prabhu Deva                     1.361977e+02\n",
       "Jeff Pollack                    1.309053e+02\n",
       "Michael Pressman                1.248852e+02\n",
       "Duane Adler                     1.141961e+02\n",
       "Stuart Gillard                  6.339774e+01\n",
       "Taika Waititi                   4.300000e+01\n",
       "Gene Quintano                   4.075569e+01\n",
       "John Harrison                   2.670238e+01\n",
       "Gregory Widen                   2.289547e+01\n",
       "Adam Marcus                     2.264205e+01\n",
       "Rusty Cundieff                  1.574064e+01\n",
       "Andy Cadiff                     1.385334e+01\n",
       "Benedikt Erlingsson             1.029637e+01\n",
       "Bille August                    9.056820e+00\n",
       "Peter Hall                      8.585801e+00\n",
       "Gilbert Adler                   6.951084e+00\n",
       "Shinichiro Watanabe             5.926763e+00\n",
       "Name: revenue_adj, Length: 1683, dtype: float64"
      ]
     },
     "execution_count": 34,
     "metadata": {},
     "output_type": "execute_result"
    }
   ],
   "source": [
    "# Fast look\n",
    "\n",
    "b.columns =['Director']\n",
    "b=b.reset_index()\n",
    "l=b.groupby(by='Director').sum()\n",
    "l.iloc[:,0].sort_values(ascending=False)"
   ]
  },
  {
   "cell_type": "code",
   "execution_count": 35,
   "metadata": {
    "slideshow": {
     "slide_type": "skip"
    }
   },
   "outputs": [
    {
     "data": {
      "text/plain": [
       "Director\n",
       "Steven Spielberg    1.520245e+10\n",
       "Name: revenue_adj, dtype: float64"
      ]
     },
     "execution_count": 35,
     "metadata": {},
     "output_type": "execute_result"
    }
   ],
   "source": [
    "# The answer:\n",
    "l.iloc[:,0].sort_values(ascending=False).head(1)"
   ]
  },
  {
   "cell_type": "code",
   "execution_count": 36,
   "metadata": {
    "slideshow": {
     "slide_type": "skip"
    }
   },
   "outputs": [
    {
     "data": {
      "text/plain": [
       "Director\n",
       "Steven Spielberg     1.520245e+10\n",
       "James Cameron        7.327221e+09\n",
       "Peter Jackson        7.019848e+09\n",
       "George Lucas         6.313919e+09\n",
       "Robert Zemeckis      5.655648e+09\n",
       "Michael Bay          5.460672e+09\n",
       "Chris Columbus       4.893486e+09\n",
       "Tim Burton           4.529285e+09\n",
       "David Yates          4.177455e+09\n",
       "Christopher Nolan    4.164262e+09\n",
       "Ridley Scott         4.141848e+09\n",
       "Roland Emmerich      4.076981e+09\n",
       "Ron Howard           4.011669e+09\n",
       "Gore Verbinski       3.926130e+09\n",
       "Sam Raimi            3.595782e+09\n",
       "Clint Eastwood       3.518207e+09\n",
       "J.J. Abrams          3.414677e+09\n",
       "Richard Donner       3.242881e+09\n",
       "Tony Scott           3.117253e+09\n",
       "Francis Lawrence     3.067993e+09\n",
       "Name: revenue_adj, dtype: float64"
      ]
     },
     "execution_count": 36,
     "metadata": {},
     "output_type": "execute_result"
    }
   ],
   "source": [
    "# The top 20:\n",
    "T_act = l.iloc[:,0].sort_values(ascending=False).head(20)\n",
    "T_act"
   ]
  },
  {
   "cell_type": "code",
   "execution_count": 37,
   "metadata": {
    "scrolled": true,
    "slideshow": {
     "slide_type": "subslide"
    }
   },
   "outputs": [
    {
     "data": {
      "text/plain": [
       "Text(0,0.5,'Revenue')"
      ]
     },
     "execution_count": 37,
     "metadata": {},
     "output_type": "execute_result"
    },
    {
     "data": {
      "image/png": "[encoded data removed]",
      "text/plain": [
       "<matplotlib.figure.Figure at 0x7f0a425914a8>"
      ]
     },
     "metadata": {
      "needs_background": "light"
     },
     "output_type": "display_data"
    }
   ],
   "source": [
    "# visualization to the top 20 actors using Bar Charts:\n",
    "\n",
    "T_act.plot(kind=\"bar\");\n",
    "plt.title(\"the top director\")\n",
    "plt.xlabel(\"Director Name\")\n",
    "plt.ylabel(\"Revenue\")"
   ]
  },
  {
   "cell_type": "markdown",
   "metadata": {
    "slideshow": {
     "slide_type": "slide"
    }
   },
   "source": [
    "We can see that there is a huge difference between the first director compared to the rest of the directors: The first director earns a lot more than the others."
   ]
  },
  {
   "cell_type": "markdown",
   "metadata": {
    "slideshow": {
     "slide_type": "slide"
    }
   },
   "source": [
    "### Q5 Which genres are most popular from year to year?\n",
    "\n",
    "#### Q5.1 Which genres are most (in general)?"
   ]
  },
  {
   "cell_type": "code",
   "execution_count": 38,
   "metadata": {
    "slideshow": {
     "slide_type": "skip"
    }
   },
   "outputs": [],
   "source": [
    "# Apply combine Function to combine multiple columns into different shapes.\n",
    "\n",
    "a,b = comp( df_n , ['genres0', 'genres1', 'genres2', 'genres3', 'genres4'] , 'release_year')"
   ]
  },
  {
   "cell_type": "code",
   "execution_count": 39,
   "metadata": {
    "slideshow": {
     "slide_type": "skip"
    }
   },
   "outputs": [
    {
     "data": {
      "text/html": [
       "<div>\n",
       "<style scoped>\n",
       "    .dataframe tbody tr th:only-of-type {\n",
       "        vertical-align: middle;\n",
       "    }\n",
       "\n",
       "    .dataframe tbody tr th {\n",
       "        vertical-align: top;\n",
       "    }\n",
       "\n",
       "    .dataframe thead th {\n",
       "        text-align: right;\n",
       "    }\n",
       "</style>\n",
       "<table border=\"1\" class=\"dataframe\">\n",
       "  <thead>\n",
       "    <tr style=\"text-align: right;\">\n",
       "      <th></th>\n",
       "      <th></th>\n",
       "      <th>0</th>\n",
       "    </tr>\n",
       "    <tr>\n",
       "      <th>release_year</th>\n",
       "      <th></th>\n",
       "      <th></th>\n",
       "    </tr>\n",
       "  </thead>\n",
       "  <tbody>\n",
       "    <tr>\n",
       "      <th rowspan=\"30\" valign=\"top\">2015</th>\n",
       "      <th>genres0</th>\n",
       "      <td>Action</td>\n",
       "    </tr>\n",
       "    <tr>\n",
       "      <th>genres1</th>\n",
       "      <td>Adventure</td>\n",
       "    </tr>\n",
       "    <tr>\n",
       "      <th>genres2</th>\n",
       "      <td>Science Fiction</td>\n",
       "    </tr>\n",
       "    <tr>\n",
       "      <th>genres3</th>\n",
       "      <td>Thriller</td>\n",
       "    </tr>\n",
       "    <tr>\n",
       "      <th>genres0</th>\n",
       "      <td>Action</td>\n",
       "    </tr>\n",
       "    <tr>\n",
       "      <th>genres1</th>\n",
       "      <td>Adventure</td>\n",
       "    </tr>\n",
       "    <tr>\n",
       "      <th>genres2</th>\n",
       "      <td>Science Fiction</td>\n",
       "    </tr>\n",
       "    <tr>\n",
       "      <th>genres3</th>\n",
       "      <td>Thriller</td>\n",
       "    </tr>\n",
       "    <tr>\n",
       "      <th>genres0</th>\n",
       "      <td>Adventure</td>\n",
       "    </tr>\n",
       "    <tr>\n",
       "      <th>genres1</th>\n",
       "      <td>Science Fiction</td>\n",
       "    </tr>\n",
       "    <tr>\n",
       "      <th>genres2</th>\n",
       "      <td>Thriller</td>\n",
       "    </tr>\n",
       "    <tr>\n",
       "      <th>genres0</th>\n",
       "      <td>Action</td>\n",
       "    </tr>\n",
       "    <tr>\n",
       "      <th>genres1</th>\n",
       "      <td>Adventure</td>\n",
       "    </tr>\n",
       "    <tr>\n",
       "      <th>genres2</th>\n",
       "      <td>Science Fiction</td>\n",
       "    </tr>\n",
       "    <tr>\n",
       "      <th>genres3</th>\n",
       "      <td>Fantasy</td>\n",
       "    </tr>\n",
       "    <tr>\n",
       "      <th>genres0</th>\n",
       "      <td>Action</td>\n",
       "    </tr>\n",
       "    <tr>\n",
       "      <th>genres1</th>\n",
       "      <td>Crime</td>\n",
       "    </tr>\n",
       "    <tr>\n",
       "      <th>genres2</th>\n",
       "      <td>Thriller</td>\n",
       "    </tr>\n",
       "    <tr>\n",
       "      <th>genres0</th>\n",
       "      <td>Western</td>\n",
       "    </tr>\n",
       "    <tr>\n",
       "      <th>genres1</th>\n",
       "      <td>Drama</td>\n",
       "    </tr>\n",
       "    <tr>\n",
       "      <th>genres2</th>\n",
       "      <td>Adventure</td>\n",
       "    </tr>\n",
       "    <tr>\n",
       "      <th>genres3</th>\n",
       "      <td>Thriller</td>\n",
       "    </tr>\n",
       "    <tr>\n",
       "      <th>genres0</th>\n",
       "      <td>Science Fiction</td>\n",
       "    </tr>\n",
       "    <tr>\n",
       "      <th>genres1</th>\n",
       "      <td>Action</td>\n",
       "    </tr>\n",
       "    <tr>\n",
       "      <th>genres2</th>\n",
       "      <td>Thriller</td>\n",
       "    </tr>\n",
       "    <tr>\n",
       "      <th>genres3</th>\n",
       "      <td>Adventure</td>\n",
       "    </tr>\n",
       "    <tr>\n",
       "      <th>genres0</th>\n",
       "      <td>Drama</td>\n",
       "    </tr>\n",
       "    <tr>\n",
       "      <th>genres1</th>\n",
       "      <td>Adventure</td>\n",
       "    </tr>\n",
       "    <tr>\n",
       "      <th>genres2</th>\n",
       "      <td>Science Fiction</td>\n",
       "    </tr>\n",
       "    <tr>\n",
       "      <th>genres0</th>\n",
       "      <td>Family</td>\n",
       "    </tr>\n",
       "    <tr>\n",
       "      <th>...</th>\n",
       "      <th>...</th>\n",
       "      <td>...</td>\n",
       "    </tr>\n",
       "    <tr>\n",
       "      <th rowspan=\"18\" valign=\"top\">1978</th>\n",
       "      <th>genres1</th>\n",
       "      <td>Comedy</td>\n",
       "    </tr>\n",
       "    <tr>\n",
       "      <th>genres2</th>\n",
       "      <td>Drama</td>\n",
       "    </tr>\n",
       "    <tr>\n",
       "      <th>genres0</th>\n",
       "      <td>Horror</td>\n",
       "    </tr>\n",
       "    <tr>\n",
       "      <th>genres1</th>\n",
       "      <td>Thriller</td>\n",
       "    </tr>\n",
       "    <tr>\n",
       "      <th>genres2</th>\n",
       "      <td>Science Fiction</td>\n",
       "    </tr>\n",
       "    <tr>\n",
       "      <th>genres3</th>\n",
       "      <td>Mystery</td>\n",
       "    </tr>\n",
       "    <tr>\n",
       "      <th>genres0</th>\n",
       "      <td>Adventure</td>\n",
       "    </tr>\n",
       "    <tr>\n",
       "      <th>genres1</th>\n",
       "      <td>Family</td>\n",
       "    </tr>\n",
       "    <tr>\n",
       "      <th>genres2</th>\n",
       "      <td>Fantasy</td>\n",
       "    </tr>\n",
       "    <tr>\n",
       "      <th>genres3</th>\n",
       "      <td>Music</td>\n",
       "    </tr>\n",
       "    <tr>\n",
       "      <th>genres4</th>\n",
       "      <td>Science Fiction</td>\n",
       "    </tr>\n",
       "    <tr>\n",
       "      <th>genres0</th>\n",
       "      <td>Action</td>\n",
       "    </tr>\n",
       "    <tr>\n",
       "      <th>genres1</th>\n",
       "      <td>Drama</td>\n",
       "    </tr>\n",
       "    <tr>\n",
       "      <th>genres2</th>\n",
       "      <td>Horror</td>\n",
       "    </tr>\n",
       "    <tr>\n",
       "      <th>genres3</th>\n",
       "      <td>Thriller</td>\n",
       "    </tr>\n",
       "    <tr>\n",
       "      <th>genres0</th>\n",
       "      <td>Adventure</td>\n",
       "    </tr>\n",
       "    <tr>\n",
       "      <th>genres1</th>\n",
       "      <td>Animation</td>\n",
       "    </tr>\n",
       "    <tr>\n",
       "      <th>genres2</th>\n",
       "      <td>Drama</td>\n",
       "    </tr>\n",
       "    <tr>\n",
       "      <th rowspan=\"12\" valign=\"top\">1966</th>\n",
       "      <th>genres0</th>\n",
       "      <td>Drama</td>\n",
       "    </tr>\n",
       "    <tr>\n",
       "      <th>genres0</th>\n",
       "      <td>Mystery</td>\n",
       "    </tr>\n",
       "    <tr>\n",
       "      <th>genres1</th>\n",
       "      <td>Thriller</td>\n",
       "    </tr>\n",
       "    <tr>\n",
       "      <th>genres0</th>\n",
       "      <td>Action</td>\n",
       "    </tr>\n",
       "    <tr>\n",
       "      <th>genres1</th>\n",
       "      <td>Western</td>\n",
       "    </tr>\n",
       "    <tr>\n",
       "      <th>genres0</th>\n",
       "      <td>Action</td>\n",
       "    </tr>\n",
       "    <tr>\n",
       "      <th>genres1</th>\n",
       "      <td>Adventure</td>\n",
       "    </tr>\n",
       "    <tr>\n",
       "      <th>genres2</th>\n",
       "      <td>Drama</td>\n",
       "    </tr>\n",
       "    <tr>\n",
       "      <th>genres3</th>\n",
       "      <td>War</td>\n",
       "    </tr>\n",
       "    <tr>\n",
       "      <th>genres4</th>\n",
       "      <td>Romance</td>\n",
       "    </tr>\n",
       "    <tr>\n",
       "      <th>genres0</th>\n",
       "      <td>Adventure</td>\n",
       "    </tr>\n",
       "    <tr>\n",
       "      <th>genres1</th>\n",
       "      <td>Science Fiction</td>\n",
       "    </tr>\n",
       "  </tbody>\n",
       "</table>\n",
       "<p>10180 rows × 1 columns</p>\n",
       "</div>"
      ],
      "text/plain": [
       "                                    0\n",
       "release_year                         \n",
       "2015         genres0           Action\n",
       "             genres1        Adventure\n",
       "             genres2  Science Fiction\n",
       "             genres3         Thriller\n",
       "             genres0           Action\n",
       "             genres1        Adventure\n",
       "             genres2  Science Fiction\n",
       "             genres3         Thriller\n",
       "             genres0        Adventure\n",
       "             genres1  Science Fiction\n",
       "             genres2         Thriller\n",
       "             genres0           Action\n",
       "             genres1        Adventure\n",
       "             genres2  Science Fiction\n",
       "             genres3          Fantasy\n",
       "             genres0           Action\n",
       "             genres1            Crime\n",
       "             genres2         Thriller\n",
       "             genres0          Western\n",
       "             genres1            Drama\n",
       "             genres2        Adventure\n",
       "             genres3         Thriller\n",
       "             genres0  Science Fiction\n",
       "             genres1           Action\n",
       "             genres2         Thriller\n",
       "             genres3        Adventure\n",
       "             genres0            Drama\n",
       "             genres1        Adventure\n",
       "             genres2  Science Fiction\n",
       "             genres0           Family\n",
       "...                               ...\n",
       "1978         genres1           Comedy\n",
       "             genres2            Drama\n",
       "             genres0           Horror\n",
       "             genres1         Thriller\n",
       "             genres2  Science Fiction\n",
       "             genres3          Mystery\n",
       "             genres0        Adventure\n",
       "             genres1           Family\n",
       "             genres2          Fantasy\n",
       "             genres3            Music\n",
       "             genres4  Science Fiction\n",
       "             genres0           Action\n",
       "             genres1            Drama\n",
       "             genres2           Horror\n",
       "             genres3         Thriller\n",
       "             genres0        Adventure\n",
       "             genres1        Animation\n",
       "             genres2            Drama\n",
       "1966         genres0            Drama\n",
       "             genres0          Mystery\n",
       "             genres1         Thriller\n",
       "             genres0           Action\n",
       "             genres1          Western\n",
       "             genres0           Action\n",
       "             genres1        Adventure\n",
       "             genres2            Drama\n",
       "             genres3              War\n",
       "             genres4          Romance\n",
       "             genres0        Adventure\n",
       "             genres1  Science Fiction\n",
       "\n",
       "[10180 rows x 1 columns]"
      ]
     },
     "execution_count": 39,
     "metadata": {},
     "output_type": "execute_result"
    }
   ],
   "source": [
    "# Fast look\n",
    "a"
   ]
  },
  {
   "cell_type": "code",
   "execution_count": 40,
   "metadata": {
    "slideshow": {
     "slide_type": "skip"
    }
   },
   "outputs": [
    {
     "data": {
      "text/plain": [
       "Drama    1729\n",
       "Name: 0, dtype: int64"
      ]
     },
     "execution_count": 40,
     "metadata": {},
     "output_type": "execute_result"
    }
   ],
   "source": [
    "# The answer:\n",
    "b[0].value_counts().sort_values(ascending=False).head(1)"
   ]
  },
  {
   "cell_type": "code",
   "execution_count": 41,
   "metadata": {
    "slideshow": {
     "slide_type": "skip"
    }
   },
   "outputs": [
    {
     "data": {
      "text/plain": [
       "Drama              1729\n",
       "Comedy             1335\n",
       "Thriller           1194\n",
       "Action             1076\n",
       "Adventure           743\n",
       "Romance             658\n",
       "Crime               649\n",
       "Science Fiction     517\n",
       "Horror              459\n",
       "Family              417\n",
       "Fantasy             395\n",
       "Mystery             343\n",
       "Animation           199\n",
       "Music               131\n",
       "History             128\n",
       "War                 119\n",
       "Western              52\n",
       "Documentary          26\n",
       "Foreign               9\n",
       "TV Movie              1\n",
       "Name: 0, dtype: int64"
      ]
     },
     "execution_count": 41,
     "metadata": {},
     "output_type": "execute_result"
    }
   ],
   "source": [
    "# The top 20:\n",
    "T_act = b[0].value_counts().sort_values(ascending=False).head(20)\n",
    "T_act"
   ]
  },
  {
   "cell_type": "code",
   "execution_count": 42,
   "metadata": {
    "slideshow": {
     "slide_type": "subslide"
    }
   },
   "outputs": [
    {
     "data": {
      "text/plain": [
       "Text(0,0.5,'Number of movies')"
      ]
     },
     "execution_count": 42,
     "metadata": {},
     "output_type": "execute_result"
    },
    {
     "data": {
      "image/png": "[encoded data removed]",
      "text/plain": [
       "<matplotlib.figure.Figure at 0x7f0a425915f8>"
      ]
     },
     "metadata": {
      "needs_background": "light"
     },
     "output_type": "display_data"
    }
   ],
   "source": [
    "# visualization to the top 20 actors using Bar Charts:\n",
    "\n",
    "T_act.plot(kind=\"bar\")\n",
    "plt.title(\"the top genres\")\n",
    "plt.xlabel(\"Genres Name\")\n",
    "plt.ylabel(\"Number of movies\")"
   ]
  },
  {
   "cell_type": "markdown",
   "metadata": {
    "slideshow": {
     "slide_type": "slide"
    }
   },
   "source": [
    " It's concluded that the No. of the first four genres are relatively higher than the rest. And \"Drama\" is the most popular with relatively large difference.\n"
   ]
  },
  {
   "cell_type": "markdown",
   "metadata": {
    "slideshow": {
     "slide_type": "slide"
    }
   },
   "source": [
    "\n",
    "\n",
    "#### Q5.2  Which genres are most popular from year to year?"
   ]
  },
  {
   "cell_type": "code",
   "execution_count": 43,
   "metadata": {
    "slideshow": {
     "slide_type": "skip"
    }
   },
   "outputs": [
    {
     "data": {
      "text/html": [
       "<div>\n",
       "<style scoped>\n",
       "    .dataframe tbody tr th:only-of-type {\n",
       "        vertical-align: middle;\n",
       "    }\n",
       "\n",
       "    .dataframe tbody tr th {\n",
       "        vertical-align: top;\n",
       "    }\n",
       "\n",
       "    .dataframe thead th {\n",
       "        text-align: right;\n",
       "    }\n",
       "</style>\n",
       "<table border=\"1\" class=\"dataframe\">\n",
       "  <thead>\n",
       "    <tr style=\"text-align: right;\">\n",
       "      <th></th>\n",
       "      <th>release_year</th>\n",
       "      <th>Genres</th>\n",
       "      <th>Y_G</th>\n",
       "    </tr>\n",
       "  </thead>\n",
       "  <tbody>\n",
       "    <tr>\n",
       "      <th>0</th>\n",
       "      <td>2015</td>\n",
       "      <td>Action</td>\n",
       "      <td>2015_Action</td>\n",
       "    </tr>\n",
       "    <tr>\n",
       "      <th>1</th>\n",
       "      <td>2015</td>\n",
       "      <td>Action</td>\n",
       "      <td>2015_Action</td>\n",
       "    </tr>\n",
       "    <tr>\n",
       "      <th>2</th>\n",
       "      <td>2015</td>\n",
       "      <td>Adventure</td>\n",
       "      <td>2015_Adventure</td>\n",
       "    </tr>\n",
       "    <tr>\n",
       "      <th>3</th>\n",
       "      <td>2015</td>\n",
       "      <td>Action</td>\n",
       "      <td>2015_Action</td>\n",
       "    </tr>\n",
       "    <tr>\n",
       "      <th>4</th>\n",
       "      <td>2015</td>\n",
       "      <td>Action</td>\n",
       "      <td>2015_Action</td>\n",
       "    </tr>\n",
       "  </tbody>\n",
       "</table>\n",
       "</div>"
      ],
      "text/plain": [
       "   release_year     Genres             Y_G\n",
       "0          2015     Action     2015_Action\n",
       "1          2015     Action     2015_Action\n",
       "2          2015  Adventure  2015_Adventure\n",
       "3          2015     Action     2015_Action\n",
       "4          2015     Action     2015_Action"
      ]
     },
     "execution_count": 43,
     "metadata": {},
     "output_type": "execute_result"
    }
   ],
   "source": [
    "b.columns =['Genres']\n",
    "b=b.reset_index()\n",
    "b[\"Y_G\"] = b[\"release_year\"].astype(str) + \"_\" + b[\"Genres\"]\n",
    "b.head()"
   ]
  },
  {
   "cell_type": "code",
   "execution_count": 44,
   "metadata": {
    "slideshow": {
     "slide_type": "skip"
    }
   },
   "outputs": [],
   "source": [
    "T_act = b.iloc[:,2].value_counts()\n",
    "T_act = pd.DataFrame(T_act)\n",
    "T_act = T_act.reset_index()\n"
   ]
  },
  {
   "cell_type": "code",
   "execution_count": 45,
   "metadata": {
    "slideshow": {
     "slide_type": "skip"
    }
   },
   "outputs": [
    {
     "data": {
      "text/html": [
       "<div>\n",
       "<style scoped>\n",
       "    .dataframe tbody tr th:only-of-type {\n",
       "        vertical-align: middle;\n",
       "    }\n",
       "\n",
       "    .dataframe tbody tr th {\n",
       "        vertical-align: top;\n",
       "    }\n",
       "\n",
       "    .dataframe thead th {\n",
       "        text-align: right;\n",
       "    }\n",
       "</style>\n",
       "<table border=\"1\" class=\"dataframe\">\n",
       "  <thead>\n",
       "    <tr style=\"text-align: right;\">\n",
       "      <th></th>\n",
       "      <th>release_year</th>\n",
       "      <th>Genres</th>\n",
       "      <th>N</th>\n",
       "    </tr>\n",
       "  </thead>\n",
       "  <tbody>\n",
       "    <tr>\n",
       "      <th>0</th>\n",
       "      <td>1960</td>\n",
       "      <td>Romance</td>\n",
       "      <td>2</td>\n",
       "    </tr>\n",
       "    <tr>\n",
       "      <th>1</th>\n",
       "      <td>1960</td>\n",
       "      <td>History</td>\n",
       "      <td>1</td>\n",
       "    </tr>\n",
       "    <tr>\n",
       "      <th>2</th>\n",
       "      <td>1960</td>\n",
       "      <td>Action</td>\n",
       "      <td>2</td>\n",
       "    </tr>\n",
       "    <tr>\n",
       "      <th>3</th>\n",
       "      <td>1960</td>\n",
       "      <td>Horror</td>\n",
       "      <td>1</td>\n",
       "    </tr>\n",
       "    <tr>\n",
       "      <th>4</th>\n",
       "      <td>1960</td>\n",
       "      <td>Thriller</td>\n",
       "      <td>1</td>\n",
       "    </tr>\n",
       "    <tr>\n",
       "      <th>5</th>\n",
       "      <td>1960</td>\n",
       "      <td>Comedy</td>\n",
       "      <td>2</td>\n",
       "    </tr>\n",
       "    <tr>\n",
       "      <th>6</th>\n",
       "      <td>1960</td>\n",
       "      <td>Adventure</td>\n",
       "      <td>1</td>\n",
       "    </tr>\n",
       "    <tr>\n",
       "      <th>7</th>\n",
       "      <td>1960</td>\n",
       "      <td>Drama</td>\n",
       "      <td>3</td>\n",
       "    </tr>\n",
       "    <tr>\n",
       "      <th>8</th>\n",
       "      <td>1960</td>\n",
       "      <td>Western</td>\n",
       "      <td>1</td>\n",
       "    </tr>\n",
       "    <tr>\n",
       "      <th>9</th>\n",
       "      <td>1961</td>\n",
       "      <td>Adventure</td>\n",
       "      <td>2</td>\n",
       "    </tr>\n",
       "    <tr>\n",
       "      <th>10</th>\n",
       "      <td>1961</td>\n",
       "      <td>History</td>\n",
       "      <td>1</td>\n",
       "    </tr>\n",
       "    <tr>\n",
       "      <th>11</th>\n",
       "      <td>1961</td>\n",
       "      <td>Comedy</td>\n",
       "      <td>4</td>\n",
       "    </tr>\n",
       "    <tr>\n",
       "      <th>12</th>\n",
       "      <td>1961</td>\n",
       "      <td>War</td>\n",
       "      <td>1</td>\n",
       "    </tr>\n",
       "    <tr>\n",
       "      <th>13</th>\n",
       "      <td>1961</td>\n",
       "      <td>Animation</td>\n",
       "      <td>1</td>\n",
       "    </tr>\n",
       "    <tr>\n",
       "      <th>14</th>\n",
       "      <td>1961</td>\n",
       "      <td>Western</td>\n",
       "      <td>1</td>\n",
       "    </tr>\n",
       "    <tr>\n",
       "      <th>15</th>\n",
       "      <td>1961</td>\n",
       "      <td>Horror</td>\n",
       "      <td>1</td>\n",
       "    </tr>\n",
       "    <tr>\n",
       "      <th>16</th>\n",
       "      <td>1961</td>\n",
       "      <td>Crime</td>\n",
       "      <td>1</td>\n",
       "    </tr>\n",
       "    <tr>\n",
       "      <th>17</th>\n",
       "      <td>1961</td>\n",
       "      <td>Romance</td>\n",
       "      <td>1</td>\n",
       "    </tr>\n",
       "    <tr>\n",
       "      <th>18</th>\n",
       "      <td>1961</td>\n",
       "      <td>Family</td>\n",
       "      <td>2</td>\n",
       "    </tr>\n",
       "    <tr>\n",
       "      <th>19</th>\n",
       "      <td>1961</td>\n",
       "      <td>Action</td>\n",
       "      <td>2</td>\n",
       "    </tr>\n",
       "    <tr>\n",
       "      <th>20</th>\n",
       "      <td>1961</td>\n",
       "      <td>Drama</td>\n",
       "      <td>6</td>\n",
       "    </tr>\n",
       "    <tr>\n",
       "      <th>21</th>\n",
       "      <td>1961</td>\n",
       "      <td>Music</td>\n",
       "      <td>1</td>\n",
       "    </tr>\n",
       "    <tr>\n",
       "      <th>22</th>\n",
       "      <td>1962</td>\n",
       "      <td>Action</td>\n",
       "      <td>2</td>\n",
       "    </tr>\n",
       "    <tr>\n",
       "      <th>23</th>\n",
       "      <td>1962</td>\n",
       "      <td>History</td>\n",
       "      <td>1</td>\n",
       "    </tr>\n",
       "    <tr>\n",
       "      <th>24</th>\n",
       "      <td>1962</td>\n",
       "      <td>Adventure</td>\n",
       "      <td>3</td>\n",
       "    </tr>\n",
       "    <tr>\n",
       "      <th>25</th>\n",
       "      <td>1962</td>\n",
       "      <td>Thriller</td>\n",
       "      <td>1</td>\n",
       "    </tr>\n",
       "    <tr>\n",
       "      <th>26</th>\n",
       "      <td>1962</td>\n",
       "      <td>Crime</td>\n",
       "      <td>1</td>\n",
       "    </tr>\n",
       "    <tr>\n",
       "      <th>27</th>\n",
       "      <td>1962</td>\n",
       "      <td>Drama</td>\n",
       "      <td>5</td>\n",
       "    </tr>\n",
       "    <tr>\n",
       "      <th>28</th>\n",
       "      <td>1962</td>\n",
       "      <td>Western</td>\n",
       "      <td>2</td>\n",
       "    </tr>\n",
       "    <tr>\n",
       "      <th>29</th>\n",
       "      <td>1962</td>\n",
       "      <td>War</td>\n",
       "      <td>1</td>\n",
       "    </tr>\n",
       "    <tr>\n",
       "      <th>...</th>\n",
       "      <td>...</td>\n",
       "      <td>...</td>\n",
       "      <td>...</td>\n",
       "    </tr>\n",
       "    <tr>\n",
       "      <th>809</th>\n",
       "      <td>2014</td>\n",
       "      <td>History</td>\n",
       "      <td>4</td>\n",
       "    </tr>\n",
       "    <tr>\n",
       "      <th>810</th>\n",
       "      <td>2014</td>\n",
       "      <td>Action</td>\n",
       "      <td>44</td>\n",
       "    </tr>\n",
       "    <tr>\n",
       "      <th>811</th>\n",
       "      <td>2014</td>\n",
       "      <td>Drama</td>\n",
       "      <td>79</td>\n",
       "    </tr>\n",
       "    <tr>\n",
       "      <th>812</th>\n",
       "      <td>2014</td>\n",
       "      <td>Romance</td>\n",
       "      <td>20</td>\n",
       "    </tr>\n",
       "    <tr>\n",
       "      <th>813</th>\n",
       "      <td>2014</td>\n",
       "      <td>Adventure</td>\n",
       "      <td>29</td>\n",
       "    </tr>\n",
       "    <tr>\n",
       "      <th>814</th>\n",
       "      <td>2014</td>\n",
       "      <td>Comedy</td>\n",
       "      <td>48</td>\n",
       "    </tr>\n",
       "    <tr>\n",
       "      <th>815</th>\n",
       "      <td>2014</td>\n",
       "      <td>War</td>\n",
       "      <td>9</td>\n",
       "    </tr>\n",
       "    <tr>\n",
       "      <th>816</th>\n",
       "      <td>2014</td>\n",
       "      <td>Mystery</td>\n",
       "      <td>9</td>\n",
       "    </tr>\n",
       "    <tr>\n",
       "      <th>817</th>\n",
       "      <td>2014</td>\n",
       "      <td>Thriller</td>\n",
       "      <td>41</td>\n",
       "    </tr>\n",
       "    <tr>\n",
       "      <th>818</th>\n",
       "      <td>2014</td>\n",
       "      <td>Animation</td>\n",
       "      <td>10</td>\n",
       "    </tr>\n",
       "    <tr>\n",
       "      <th>819</th>\n",
       "      <td>2014</td>\n",
       "      <td>Family</td>\n",
       "      <td>14</td>\n",
       "    </tr>\n",
       "    <tr>\n",
       "      <th>820</th>\n",
       "      <td>2014</td>\n",
       "      <td>Fantasy</td>\n",
       "      <td>14</td>\n",
       "    </tr>\n",
       "    <tr>\n",
       "      <th>821</th>\n",
       "      <td>2014</td>\n",
       "      <td>Western</td>\n",
       "      <td>1</td>\n",
       "    </tr>\n",
       "    <tr>\n",
       "      <th>822</th>\n",
       "      <td>2015</td>\n",
       "      <td>War</td>\n",
       "      <td>5</td>\n",
       "    </tr>\n",
       "    <tr>\n",
       "      <th>823</th>\n",
       "      <td>2015</td>\n",
       "      <td>Music</td>\n",
       "      <td>9</td>\n",
       "    </tr>\n",
       "    <tr>\n",
       "      <th>824</th>\n",
       "      <td>2015</td>\n",
       "      <td>Drama</td>\n",
       "      <td>81</td>\n",
       "    </tr>\n",
       "    <tr>\n",
       "      <th>825</th>\n",
       "      <td>2015</td>\n",
       "      <td>Western</td>\n",
       "      <td>2</td>\n",
       "    </tr>\n",
       "    <tr>\n",
       "      <th>826</th>\n",
       "      <td>2015</td>\n",
       "      <td>Science Fiction</td>\n",
       "      <td>22</td>\n",
       "    </tr>\n",
       "    <tr>\n",
       "      <th>827</th>\n",
       "      <td>2015</td>\n",
       "      <td>Animation</td>\n",
       "      <td>9</td>\n",
       "    </tr>\n",
       "    <tr>\n",
       "      <th>828</th>\n",
       "      <td>2015</td>\n",
       "      <td>Mystery</td>\n",
       "      <td>13</td>\n",
       "    </tr>\n",
       "    <tr>\n",
       "      <th>829</th>\n",
       "      <td>2015</td>\n",
       "      <td>Adventure</td>\n",
       "      <td>34</td>\n",
       "    </tr>\n",
       "    <tr>\n",
       "      <th>830</th>\n",
       "      <td>2015</td>\n",
       "      <td>Crime</td>\n",
       "      <td>24</td>\n",
       "    </tr>\n",
       "    <tr>\n",
       "      <th>831</th>\n",
       "      <td>2015</td>\n",
       "      <td>Thriller</td>\n",
       "      <td>47</td>\n",
       "    </tr>\n",
       "    <tr>\n",
       "      <th>832</th>\n",
       "      <td>2015</td>\n",
       "      <td>Horror</td>\n",
       "      <td>17</td>\n",
       "    </tr>\n",
       "    <tr>\n",
       "      <th>833</th>\n",
       "      <td>2015</td>\n",
       "      <td>Romance</td>\n",
       "      <td>18</td>\n",
       "    </tr>\n",
       "    <tr>\n",
       "      <th>834</th>\n",
       "      <td>2015</td>\n",
       "      <td>Action</td>\n",
       "      <td>37</td>\n",
       "    </tr>\n",
       "    <tr>\n",
       "      <th>835</th>\n",
       "      <td>2015</td>\n",
       "      <td>History</td>\n",
       "      <td>5</td>\n",
       "    </tr>\n",
       "    <tr>\n",
       "      <th>836</th>\n",
       "      <td>2015</td>\n",
       "      <td>Family</td>\n",
       "      <td>13</td>\n",
       "    </tr>\n",
       "    <tr>\n",
       "      <th>837</th>\n",
       "      <td>2015</td>\n",
       "      <td>Fantasy</td>\n",
       "      <td>13</td>\n",
       "    </tr>\n",
       "    <tr>\n",
       "      <th>838</th>\n",
       "      <td>2015</td>\n",
       "      <td>Comedy</td>\n",
       "      <td>52</td>\n",
       "    </tr>\n",
       "  </tbody>\n",
       "</table>\n",
       "<p>839 rows × 3 columns</p>\n",
       "</div>"
      ],
      "text/plain": [
       "    release_year           Genres   N\n",
       "0           1960          Romance   2\n",
       "1           1960          History   1\n",
       "2           1960           Action   2\n",
       "3           1960           Horror   1\n",
       "4           1960         Thriller   1\n",
       "5           1960           Comedy   2\n",
       "6           1960        Adventure   1\n",
       "7           1960            Drama   3\n",
       "8           1960          Western   1\n",
       "9           1961        Adventure   2\n",
       "10          1961          History   1\n",
       "11          1961           Comedy   4\n",
       "12          1961              War   1\n",
       "13          1961        Animation   1\n",
       "14          1961          Western   1\n",
       "15          1961           Horror   1\n",
       "16          1961            Crime   1\n",
       "17          1961          Romance   1\n",
       "18          1961           Family   2\n",
       "19          1961           Action   2\n",
       "20          1961            Drama   6\n",
       "21          1961            Music   1\n",
       "22          1962           Action   2\n",
       "23          1962          History   1\n",
       "24          1962        Adventure   3\n",
       "25          1962         Thriller   1\n",
       "26          1962            Crime   1\n",
       "27          1962            Drama   5\n",
       "28          1962          Western   2\n",
       "29          1962              War   1\n",
       "..           ...              ...  ..\n",
       "809         2014          History   4\n",
       "810         2014           Action  44\n",
       "811         2014            Drama  79\n",
       "812         2014          Romance  20\n",
       "813         2014        Adventure  29\n",
       "814         2014           Comedy  48\n",
       "815         2014              War   9\n",
       "816         2014          Mystery   9\n",
       "817         2014         Thriller  41\n",
       "818         2014        Animation  10\n",
       "819         2014           Family  14\n",
       "820         2014          Fantasy  14\n",
       "821         2014          Western   1\n",
       "822         2015              War   5\n",
       "823         2015            Music   9\n",
       "824         2015            Drama  81\n",
       "825         2015          Western   2\n",
       "826         2015  Science Fiction  22\n",
       "827         2015        Animation   9\n",
       "828         2015          Mystery  13\n",
       "829         2015        Adventure  34\n",
       "830         2015            Crime  24\n",
       "831         2015         Thriller  47\n",
       "832         2015           Horror  17\n",
       "833         2015          Romance  18\n",
       "834         2015           Action  37\n",
       "835         2015          History   5\n",
       "836         2015           Family  13\n",
       "837         2015          Fantasy  13\n",
       "838         2015           Comedy  52\n",
       "\n",
       "[839 rows x 3 columns]"
      ]
     },
     "execution_count": 45,
     "metadata": {},
     "output_type": "execute_result"
    }
   ],
   "source": [
    "T_act.columns=['Y_G','N']\n",
    "T = T_act['Y_G'].str.split('_', expand=True)\n",
    "T.columns=['release_year','Genres']\n",
    "T['N'] = T_act['N']\n",
    "t = T.sort_values(by = 'release_year')\n",
    "df = t.reset_index( drop = True )\n",
    "#df = t.set_index(['release_year'])\n",
    "#df = df.transpose()\n",
    "\n",
    "df"
   ]
  },
  {
   "cell_type": "code",
   "execution_count": 46,
   "metadata": {
    "slideshow": {
     "slide_type": "skip"
    }
   },
   "outputs": [],
   "source": [
    "df = df.pivot(index = 'release_year' , columns = 'Genres' , values = 'N' )"
   ]
  },
  {
   "cell_type": "code",
   "execution_count": 47,
   "metadata": {
    "slideshow": {
     "slide_type": "subslide"
    }
   },
   "outputs": [
    {
     "data": {
      "text/plain": [
       "Text(0,0.5,'Number of movies')"
      ]
     },
     "execution_count": 47,
     "metadata": {},
     "output_type": "execute_result"
    },
    {
     "data": {
      "image/png": "[encoded data removed]",
      "text/plain": [
       "<matplotlib.figure.Figure at 0x7f0a4129fac8>"
      ]
     },
     "metadata": {
      "needs_background": "light"
     },
     "output_type": "display_data"
    }
   ],
   "source": [
    "df.plot(kind=\"bar\" , figsize = (20,15));\n",
    "plt.title(\"Most popular genres from year to year\")\n",
    "plt.xlabel(\"Release year\")\n",
    "plt.ylabel(\"Number of movies\")"
   ]
  },
  {
   "cell_type": "markdown",
   "metadata": {
    "slideshow": {
     "slide_type": "slide"
    }
   },
   "source": [
    "It's concluded that almost all genres popularity increasing by time."
   ]
  },
  {
   "cell_type": "code",
   "execution_count": 51,
   "metadata": {
    "slideshow": {
     "slide_type": "subslide"
    }
   },
   "outputs": [
    {
     "data": {
      "text/plain": [
       "Text(0,0.5,'Number of movies')"
      ]
     },
     "execution_count": 51,
     "metadata": {},
     "output_type": "execute_result"
    },
    {
     "data": {
      "image/png": "[encoded data removed]",
      "text/plain": [
       "<matplotlib.figure.Figure at 0x7f0a3e570978>"
      ]
     },
     "metadata": {
      "needs_background": "light"
     },
     "output_type": "display_data"
    }
   ],
   "source": [
    "import pylab as pl\n",
    "df.plot(kind=\"line\" ,  figsize = (20,15));\n",
    "plt.title(\"Most popular genres from year to year\")\n",
    "plt.xlabel(\"Change over years\")\n",
    "plt.ylabel(\"Number of movies\")\n"
   ]
  },
  {
   "cell_type": "markdown",
   "metadata": {
    "slideshow": {
     "slide_type": "slide"
    }
   },
   "source": [
    "It's concluded that almost all genres popularity increasing by time."
   ]
  },
  {
   "cell_type": "code",
   "execution_count": 49,
   "metadata": {
    "slideshow": {
     "slide_type": "subslide"
    }
   },
   "outputs": [
    {
     "data": {
      "image/png": "[encoded data removed]",
      "text/plain": [
       "<matplotlib.figure.Figure at 0x7f0a3da84f98>"
      ]
     },
     "metadata": {
      "needs_background": "light"
     },
     "output_type": "display_data"
    },
    {
     "data": {
      "text/plain": [
       "<matplotlib.figure.Figure at 0x7f0a412ac080>"
      ]
     },
     "metadata": {},
     "output_type": "display_data"
    }
   ],
   "source": [
    "df.plot( kind=\"hist\" , figsize = (10,7));\n",
    "plt.title(\"Most popular genres from year to year\")\n",
    "plt.xlabel(\"Change over years\")\n",
    "plt.ylabel(\"Number of movies\")\n",
    "df = df.cumsum();\n",
    "plt.figure();\n"
   ]
  },
  {
   "cell_type": "markdown",
   "metadata": {
    "slideshow": {
     "slide_type": "slide"
    }
   },
   "source": [
    "It's concluded that Some genres were really popular in the past and now their popularity decreased significantly like western movies. \n",
    "In contrast, some genres weren't popular and over time they became popular the most like drama.\n"
   ]
  },
  {
   "cell_type": "markdown",
   "metadata": {
    "slideshow": {
     "slide_type": "slide"
    }
   },
   "source": [
    "<a id='conclusions'></a>\n",
    "## Conclusions\n",
    "\n",
    "<ul>\n",
    "<li>This database was really beneficial and rich with info that from it I came to many conclusions. Those conclusions helped me in answering the above question and can do a lot more.\n",
    "    \n",
    "<li>limitations: \n",
    "    <br>\n",
    "    I found many columns need to be removed as they are not important for our analysis (as \"imdb_id\"). so, I dropped them.  \n",
    "    <br>\n",
    "    There was one duplicated row need to dropped.  \n",
    "    <br>\n",
    "    The dataset contains some rows with null and zero values in some features. And this rows need to be removed.  \n",
    "    <br>\n",
    "    There were many columns containing several values, which are seperated by an \"|\",so I create a function to split them.\n",
    "    \n",
    "    \n",
    "\n",
    "\n",
    "#### Who is the actor with most movies?\n",
    "Robert De Niro with 52 movies\n",
    "\n",
    "\n",
    "#### Who is the director with most movies?\n",
    "Steven Spielberg with 27 movies\n",
    "\n",
    "\n",
    "#### Who is the actor that makes the most money?\n",
    "Harrison Ford with 1.428570e+10 dollars\n",
    "\n",
    "\n",
    "#### Who is the director that makes the most money?\n",
    "Steven Spielberg with 1.520245e+10 dollars\n",
    "\n",
    "\n",
    "#### Which genres are most popular?\n",
    "Drama  \n",
    "<br>\n",
    "<li>This database was really beneficial and rich with info that from it I came to many conclusions. Those conclusions helped me in answering the above question and can do a lot more.\n",
    "\n",
    "<li>From the first question, it's concluded that the No. of the first four actors' movies are relatively higher than the rest.\n",
    "\n",
    "\n",
    "<li>From the second question, it's concluded that the No. of the first three directors' movies are relatively higher than the rest.\n",
    "\n",
    "<li>There is a huge difference between the first actor compared to the rest of the actors: The first actor earns a lot more than the other actors. this same conclusion applies too to question four where the first director earns a lot more than the others.\n",
    "\n",
    "<li>From the last question, it's concluded that Some genres were really popular in the past and now their popularity decreased significantly like western movies. \n",
    "In contrast, some genres weren't popular and over time they became popular the most like drama.\n",
    "\n",
    "</ul>\n"
   ]
  },
  {
   "cell_type": "code",
   "execution_count": 50,
   "metadata": {
    "slideshow": {
     "slide_type": "skip"
    }
   },
   "outputs": [
    {
     "data": {
      "text/plain": [
       "0"
      ]
     },
     "execution_count": 50,
     "metadata": {},
     "output_type": "execute_result"
    }
   ],
   "source": [
    "from subprocess import call\n",
    "call(['python', '-m', 'nbconvert', 'Investigate_a_Dataset.ipynb'])"
   ]
  },
  {
   "cell_type": "code",
   "execution_count": null,
   "metadata": {
    "slideshow": {
     "slide_type": "skip"
    }
   },
   "outputs": [],
   "source": [
    "!jupyter nbconvert Loan_Data_Exploration_Part2.ipynb --to slides --post serve  --no-input --no-prompt"
   ]
  }
 ],
 "metadata": {
  "celltoolbar": "Slideshow",
  "kernelspec": {
   "display_name": "Python 3 (ipykernel)",
   "language": "python",
   "name": "python3"
  },
  "language_info": {
   "codemirror_mode": {
    "name": "ipython",
    "version": 3
   },
   "file_extension": ".py",
   "mimetype": "text/x-python",
   "name": "python",
   "nbconvert_exporter": "python",
   "pygments_lexer": "ipython3",
   "version": "3.9.7"
  }
 },
 "nbformat": 4,
 "nbformat_minor": 2
}
